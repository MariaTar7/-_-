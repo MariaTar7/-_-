{
  "cells": [
    {
      "cell_type": "markdown",
      "metadata": {
        "id": "view-in-github",
        "colab_type": "text"
      },
      "source": [
        "<a href=\"https://colab.research.google.com/github/MariaTar7/educational-practice/blob/main/prediction_of_related_products1.ipynb\" target=\"_parent\"><img src=\"https://colab.research.google.com/assets/colab-badge.svg\" alt=\"Open In Colab\"/></a>"
      ]
    },
    {
      "cell_type": "markdown",
      "source": [
        "#  Предсказание сопутствующих покупок \n",
        "\n",
        "\n",
        "\n"
      ],
      "metadata": {
        "id": "Nz4R5b30g5tT"
      }
    },
    {
      "cell_type": "markdown",
      "source": [
        "#  Формулировка задачи\n",
        "\n",
        "В датасете содержится информация о заказах с набором продуктов. Хоть в датасете и есть user_id, необходимо рассматривать каждую сессию как отдельного посетителя, информации о предыдущих заказов которого нет. Необходимо выдвинуть рекомендации для пользователя, основываясь на списке товаров, которые он уже выбрал в течение сессии, и  предсказать следующий товар в сессии. Такие системы называют Session Based Recommendation Systems. В этом ноутбуке я рассмотрела подход, основанный на Word2Vec, а также SR-GNN."
      ],
      "metadata": {
        "id": "shfWKr0_ht4f"
      }
    },
    {
      "cell_type": "markdown",
      "source": [
        "- https://github.com/userbehavioranalysis/SR-GNN_PyTorch-Geometric"
      ],
      "metadata": {
        "id": "StctSX3YRtYw"
      }
    },
    {
      "cell_type": "markdown",
      "metadata": {
        "id": "WIjdpIpL6hog"
      },
      "source": [
        "#  Библиотеки"
      ]
    },
    {
      "cell_type": "code",
      "source": [
        "!pip install implicit"
      ],
      "metadata": {
        "id": "TBF6qHKxyW7r"
      },
      "execution_count": null,
      "outputs": []
    },
    {
      "cell_type": "code",
      "source": [
        "# Add this in a Google Colab cell to install the correct version of Pytorch Geometric.\n",
        "import torch\n",
        "\n",
        "def format_pytorch_version(version):\n",
        "  return version.split('+')[0]\n",
        "\n",
        "TORCH_version = torch.__version__\n",
        "TORCH = format_pytorch_version(TORCH_version)\n",
        "\n",
        "def format_cuda_version(version):\n",
        "  return 'cu' + version.replace('.', '')\n",
        "\n",
        "CUDA_version = torch.version.cuda\n",
        "CUDA = format_cuda_version(CUDA_version)\n",
        "\n",
        "!pip install torch-scatter     -f https://pytorch-geometric.com/whl/torch-{TORCH}+{CUDA}.html\n",
        "!pip install torch-sparse      -f https://pytorch-geometric.com/whl/torch-{TORCH}+{CUDA}.html\n",
        "!pip install torch-cluster     -f https://pytorch-geometric.com/whl/torch-{TORCH}+{CUDA}.html\n",
        "!pip install torch-spline-conv -f https://pytorch-geometric.com/whl/torch-{TORCH}+{CUDA}.html\n",
        "!pip install torch-geometric "
      ],
      "metadata": {
        "colab": {
          "base_uri": "https://localhost:8080/",
          "height": 358
        },
        "id": "2RYSDX8S4CKz",
        "outputId": "f7a44e06-8922-454a-ec3e-c316df38467b"
      },
      "execution_count": null,
      "outputs": [
        {
          "output_type": "error",
          "ename": "RuntimeError",
          "evalue": "ignored",
          "traceback": [
            "\u001b[0;31m---------------------------------------------------------------------------\u001b[0m",
            "\u001b[0;31mRuntimeError\u001b[0m                              Traceback (most recent call last)",
            "\u001b[0;32m<ipython-input-4-c102f88d8fea>\u001b[0m in \u001b[0;36m<module>\u001b[0;34m\u001b[0m\n\u001b[1;32m      1\u001b[0m \u001b[0;31m# Add this in a Google Colab cell to install the correct version of Pytorch Geometric.\u001b[0m\u001b[0;34m\u001b[0m\u001b[0;34m\u001b[0m\u001b[0;34m\u001b[0m\u001b[0m\n\u001b[0;32m----> 2\u001b[0;31m \u001b[0;32mimport\u001b[0m \u001b[0mtorch\u001b[0m\u001b[0;34m\u001b[0m\u001b[0;34m\u001b[0m\u001b[0m\n\u001b[0m\u001b[1;32m      3\u001b[0m \u001b[0;34m\u001b[0m\u001b[0m\n\u001b[1;32m      4\u001b[0m \u001b[0;32mdef\u001b[0m \u001b[0mformat_pytorch_version\u001b[0m\u001b[0;34m(\u001b[0m\u001b[0mversion\u001b[0m\u001b[0;34m)\u001b[0m\u001b[0;34m:\u001b[0m\u001b[0;34m\u001b[0m\u001b[0;34m\u001b[0m\u001b[0m\n\u001b[1;32m      5\u001b[0m   \u001b[0;32mreturn\u001b[0m \u001b[0mversion\u001b[0m\u001b[0;34m.\u001b[0m\u001b[0msplit\u001b[0m\u001b[0;34m(\u001b[0m\u001b[0;34m'+'\u001b[0m\u001b[0;34m)\u001b[0m\u001b[0;34m[\u001b[0m\u001b[0;36m0\u001b[0m\u001b[0;34m]\u001b[0m\u001b[0;34m\u001b[0m\u001b[0;34m\u001b[0m\u001b[0m\n",
            "\u001b[0;32m/usr/local/lib/python3.7/dist-packages/torch/__init__.py\u001b[0m in \u001b[0;36m<module>\u001b[0;34m\u001b[0m\n\u001b[1;32m    200\u001b[0m     \u001b[0;32mif\u001b[0m \u001b[0mUSE_GLOBAL_DEPS\u001b[0m\u001b[0;34m:\u001b[0m\u001b[0;34m\u001b[0m\u001b[0;34m\u001b[0m\u001b[0m\n\u001b[1;32m    201\u001b[0m         \u001b[0m_load_global_deps\u001b[0m\u001b[0;34m(\u001b[0m\u001b[0;34m)\u001b[0m\u001b[0;34m\u001b[0m\u001b[0;34m\u001b[0m\u001b[0m\n\u001b[0;32m--> 202\u001b[0;31m     \u001b[0;32mfrom\u001b[0m \u001b[0mtorch\u001b[0m\u001b[0;34m.\u001b[0m\u001b[0m_C\u001b[0m \u001b[0;32mimport\u001b[0m \u001b[0;34m*\u001b[0m  \u001b[0;31m# noqa: F403\u001b[0m\u001b[0;34m\u001b[0m\u001b[0;34m\u001b[0m\u001b[0m\n\u001b[0m\u001b[1;32m    203\u001b[0m \u001b[0;34m\u001b[0m\u001b[0m\n\u001b[1;32m    204\u001b[0m \u001b[0;31m# Appease the type checker; ordinarily this binding is inserted by the\u001b[0m\u001b[0;34m\u001b[0m\u001b[0;34m\u001b[0m\u001b[0;34m\u001b[0m\u001b[0m\n",
            "\u001b[0;31mRuntimeError\u001b[0m: KeyboardInterrupt: "
          ]
        }
      ]
    },
    {
      "cell_type": "code",
      "source": [
        "# Import Python built-in libraries\n",
        "import copy\n",
        "import pickle\n",
        "import random\n",
        "import time"
      ],
      "metadata": {
        "id": "CRxB48iDiAF_"
      },
      "execution_count": null,
      "outputs": []
    },
    {
      "cell_type": "code",
      "source": [
        "import matplotlib.pyplot as plt\n",
        "import numpy as np\n",
        "import pandas as pd\n",
        "from tqdm import tqdm, trange\n"
      ],
      "metadata": {
        "id": "l4YOgKchlmiU"
      },
      "execution_count": null,
      "outputs": []
    },
    {
      "cell_type": "code",
      "source": [
        "# Import pip libraries\n",
        "import matplotlib.pyplot as plt\n",
        "import numpy as np\n",
        "import pandas as pd\n",
        "from tqdm import tqdm, trange\n",
        "\n",
        "# Import torch packages\n",
        "import torch\n",
        "import torch.nn as nn\n",
        "import torch.nn.functional as F\n",
        "import torch.optim as optim\n",
        "from torch.utils import data\n",
        "\n",
        "# Import PyG packages\n",
        "import torch_geometric as pyg\n",
        "import torch_geometric.data as pyg_data\n",
        "from torch_geometric.typing import Adj, OptTensor\n",
        "import torch_sparse"
      ],
      "metadata": {
        "id": "HGQ13SWwiHRl"
      },
      "execution_count": null,
      "outputs": []
    },
    {
      "cell_type": "markdown",
      "metadata": {
        "id": "DYrSfhkh6nIc"
      },
      "source": [
        "#  Data Preprocessing"
      ]
    },
    {
      "cell_type": "markdown",
      "metadata": {
        "id": "MKM4wAYG9ssq"
      },
      "source": [
        "## Загрузка\n",
        "\n"
      ]
    },
    {
      "cell_type": "code",
      "source": [
        "!wget https://archive.ics.uci.edu/ml/machine-learning-databases/00352/Online%20Retail.xlsx"
      ],
      "metadata": {
        "colab": {
          "base_uri": "https://localhost:8080/"
        },
        "id": "jE-SjdTj4nmr",
        "outputId": "5f620dde-efeb-47f7-b755-011af9554b77"
      },
      "execution_count": null,
      "outputs": [
        {
          "output_type": "stream",
          "name": "stdout",
          "text": [
            "--2022-08-31 05:08:58--  https://archive.ics.uci.edu/ml/machine-learning-databases/00352/Online%20Retail.xlsx\n",
            "Resolving archive.ics.uci.edu (archive.ics.uci.edu)... 128.195.10.252\n",
            "Connecting to archive.ics.uci.edu (archive.ics.uci.edu)|128.195.10.252|:443... connected.\n",
            "HTTP request sent, awaiting response... 200 OK\n",
            "Length: 23715344 (23M) [application/x-httpd-php]\n",
            "Saving to: ‘Online Retail.xlsx’\n",
            "\n",
            "Online Retail.xlsx  100%[===================>]  22.62M  23.3MB/s    in 1.0s    \n",
            "\n",
            "2022-08-31 05:09:00 (23.3 MB/s) - ‘Online Retail.xlsx’ saved [23715344/23715344]\n",
            "\n"
          ]
        }
      ]
    },
    {
      "cell_type": "code",
      "source": [
        "events_df = pd.read_excel('Online Retail.xlsx')\n",
        "print(events_df.head())\n",
        "print(f'There are {len(events_df)} rows in the raw data.')"
      ],
      "metadata": {
        "colab": {
          "base_uri": "https://localhost:8080/"
        },
        "id": "NckaQ5LF4sBr",
        "outputId": "dd914fc5-ecb9-46cf-d94c-de4fe5c1df66"
      },
      "execution_count": null,
      "outputs": [
        {
          "output_type": "stream",
          "name": "stdout",
          "text": [
            "  InvoiceNo StockCode                          Description  Quantity  \\\n",
            "0    536365    85123A   WHITE HANGING HEART T-LIGHT HOLDER         6   \n",
            "1    536365     71053                  WHITE METAL LANTERN         6   \n",
            "2    536365    84406B       CREAM CUPID HEARTS COAT HANGER         8   \n",
            "3    536365    84029G  KNITTED UNION FLAG HOT WATER BOTTLE         6   \n",
            "4    536365    84029E       RED WOOLLY HOTTIE WHITE HEART.         6   \n",
            "\n",
            "          InvoiceDate  UnitPrice  CustomerID         Country  \n",
            "0 2010-12-01 08:26:00       2.55     17850.0  United Kingdom  \n",
            "1 2010-12-01 08:26:00       3.39     17850.0  United Kingdom  \n",
            "2 2010-12-01 08:26:00       2.75     17850.0  United Kingdom  \n",
            "3 2010-12-01 08:26:00       3.39     17850.0  United Kingdom  \n",
            "4 2010-12-01 08:26:00       3.39     17850.0  United Kingdom  \n",
            "There are 541909 rows in the raw data.\n"
          ]
        }
      ]
    },
    {
      "cell_type": "markdown",
      "source": [
        "- InvoiceNo - id сессии (заказа)\n",
        "- StockCode - id товара\n",
        "- Description - описание товара\n",
        "- InvoiceDate - дата выполнения заказа\n"
      ],
      "metadata": {
        "id": "itXtOMFvXROp"
      }
    },
    {
      "cell_type": "code",
      "source": [
        "events_df"
      ],
      "metadata": {
        "colab": {
          "base_uri": "https://localhost:8080/",
          "height": 424
        },
        "id": "nD8SVFN3XM4c",
        "outputId": "c3ca67aa-fad2-428a-b8c0-cbdd9b5123b3"
      },
      "execution_count": null,
      "outputs": [
        {
          "output_type": "execute_result",
          "data": {
            "text/plain": [
              "       InvoiceNo StockCode                          Description  Quantity  \\\n",
              "0         536365    85123A   WHITE HANGING HEART T-LIGHT HOLDER         6   \n",
              "1         536365     71053                  WHITE METAL LANTERN         6   \n",
              "2         536365    84406B       CREAM CUPID HEARTS COAT HANGER         8   \n",
              "3         536365    84029G  KNITTED UNION FLAG HOT WATER BOTTLE         6   \n",
              "4         536365    84029E       RED WOOLLY HOTTIE WHITE HEART.         6   \n",
              "...          ...       ...                                  ...       ...   \n",
              "541904    581587     22613          PACK OF 20 SPACEBOY NAPKINS        12   \n",
              "541905    581587     22899         CHILDREN'S APRON DOLLY GIRL          6   \n",
              "541906    581587     23254        CHILDRENS CUTLERY DOLLY GIRL          4   \n",
              "541907    581587     23255      CHILDRENS CUTLERY CIRCUS PARADE         4   \n",
              "541908    581587     22138        BAKING SET 9 PIECE RETROSPOT          3   \n",
              "\n",
              "               InvoiceDate  UnitPrice  CustomerID         Country  \n",
              "0      2010-12-01 08:26:00       2.55     17850.0  United Kingdom  \n",
              "1      2010-12-01 08:26:00       3.39     17850.0  United Kingdom  \n",
              "2      2010-12-01 08:26:00       2.75     17850.0  United Kingdom  \n",
              "3      2010-12-01 08:26:00       3.39     17850.0  United Kingdom  \n",
              "4      2010-12-01 08:26:00       3.39     17850.0  United Kingdom  \n",
              "...                    ...        ...         ...             ...  \n",
              "541904 2011-12-09 12:50:00       0.85     12680.0          France  \n",
              "541905 2011-12-09 12:50:00       2.10     12680.0          France  \n",
              "541906 2011-12-09 12:50:00       4.15     12680.0          France  \n",
              "541907 2011-12-09 12:50:00       4.15     12680.0          France  \n",
              "541908 2011-12-09 12:50:00       4.95     12680.0          France  \n",
              "\n",
              "[541909 rows x 8 columns]"
            ],
            "text/html": [
              "\n",
              "  <div id=\"df-c859a66f-fb4d-4f83-b071-d5065270fb03\">\n",
              "    <div class=\"colab-df-container\">\n",
              "      <div>\n",
              "<style scoped>\n",
              "    .dataframe tbody tr th:only-of-type {\n",
              "        vertical-align: middle;\n",
              "    }\n",
              "\n",
              "    .dataframe tbody tr th {\n",
              "        vertical-align: top;\n",
              "    }\n",
              "\n",
              "    .dataframe thead th {\n",
              "        text-align: right;\n",
              "    }\n",
              "</style>\n",
              "<table border=\"1\" class=\"dataframe\">\n",
              "  <thead>\n",
              "    <tr style=\"text-align: right;\">\n",
              "      <th></th>\n",
              "      <th>InvoiceNo</th>\n",
              "      <th>StockCode</th>\n",
              "      <th>Description</th>\n",
              "      <th>Quantity</th>\n",
              "      <th>InvoiceDate</th>\n",
              "      <th>UnitPrice</th>\n",
              "      <th>CustomerID</th>\n",
              "      <th>Country</th>\n",
              "    </tr>\n",
              "  </thead>\n",
              "  <tbody>\n",
              "    <tr>\n",
              "      <th>0</th>\n",
              "      <td>536365</td>\n",
              "      <td>85123A</td>\n",
              "      <td>WHITE HANGING HEART T-LIGHT HOLDER</td>\n",
              "      <td>6</td>\n",
              "      <td>2010-12-01 08:26:00</td>\n",
              "      <td>2.55</td>\n",
              "      <td>17850.0</td>\n",
              "      <td>United Kingdom</td>\n",
              "    </tr>\n",
              "    <tr>\n",
              "      <th>1</th>\n",
              "      <td>536365</td>\n",
              "      <td>71053</td>\n",
              "      <td>WHITE METAL LANTERN</td>\n",
              "      <td>6</td>\n",
              "      <td>2010-12-01 08:26:00</td>\n",
              "      <td>3.39</td>\n",
              "      <td>17850.0</td>\n",
              "      <td>United Kingdom</td>\n",
              "    </tr>\n",
              "    <tr>\n",
              "      <th>2</th>\n",
              "      <td>536365</td>\n",
              "      <td>84406B</td>\n",
              "      <td>CREAM CUPID HEARTS COAT HANGER</td>\n",
              "      <td>8</td>\n",
              "      <td>2010-12-01 08:26:00</td>\n",
              "      <td>2.75</td>\n",
              "      <td>17850.0</td>\n",
              "      <td>United Kingdom</td>\n",
              "    </tr>\n",
              "    <tr>\n",
              "      <th>3</th>\n",
              "      <td>536365</td>\n",
              "      <td>84029G</td>\n",
              "      <td>KNITTED UNION FLAG HOT WATER BOTTLE</td>\n",
              "      <td>6</td>\n",
              "      <td>2010-12-01 08:26:00</td>\n",
              "      <td>3.39</td>\n",
              "      <td>17850.0</td>\n",
              "      <td>United Kingdom</td>\n",
              "    </tr>\n",
              "    <tr>\n",
              "      <th>4</th>\n",
              "      <td>536365</td>\n",
              "      <td>84029E</td>\n",
              "      <td>RED WOOLLY HOTTIE WHITE HEART.</td>\n",
              "      <td>6</td>\n",
              "      <td>2010-12-01 08:26:00</td>\n",
              "      <td>3.39</td>\n",
              "      <td>17850.0</td>\n",
              "      <td>United Kingdom</td>\n",
              "    </tr>\n",
              "    <tr>\n",
              "      <th>...</th>\n",
              "      <td>...</td>\n",
              "      <td>...</td>\n",
              "      <td>...</td>\n",
              "      <td>...</td>\n",
              "      <td>...</td>\n",
              "      <td>...</td>\n",
              "      <td>...</td>\n",
              "      <td>...</td>\n",
              "    </tr>\n",
              "    <tr>\n",
              "      <th>541904</th>\n",
              "      <td>581587</td>\n",
              "      <td>22613</td>\n",
              "      <td>PACK OF 20 SPACEBOY NAPKINS</td>\n",
              "      <td>12</td>\n",
              "      <td>2011-12-09 12:50:00</td>\n",
              "      <td>0.85</td>\n",
              "      <td>12680.0</td>\n",
              "      <td>France</td>\n",
              "    </tr>\n",
              "    <tr>\n",
              "      <th>541905</th>\n",
              "      <td>581587</td>\n",
              "      <td>22899</td>\n",
              "      <td>CHILDREN'S APRON DOLLY GIRL</td>\n",
              "      <td>6</td>\n",
              "      <td>2011-12-09 12:50:00</td>\n",
              "      <td>2.10</td>\n",
              "      <td>12680.0</td>\n",
              "      <td>France</td>\n",
              "    </tr>\n",
              "    <tr>\n",
              "      <th>541906</th>\n",
              "      <td>581587</td>\n",
              "      <td>23254</td>\n",
              "      <td>CHILDRENS CUTLERY DOLLY GIRL</td>\n",
              "      <td>4</td>\n",
              "      <td>2011-12-09 12:50:00</td>\n",
              "      <td>4.15</td>\n",
              "      <td>12680.0</td>\n",
              "      <td>France</td>\n",
              "    </tr>\n",
              "    <tr>\n",
              "      <th>541907</th>\n",
              "      <td>581587</td>\n",
              "      <td>23255</td>\n",
              "      <td>CHILDRENS CUTLERY CIRCUS PARADE</td>\n",
              "      <td>4</td>\n",
              "      <td>2011-12-09 12:50:00</td>\n",
              "      <td>4.15</td>\n",
              "      <td>12680.0</td>\n",
              "      <td>France</td>\n",
              "    </tr>\n",
              "    <tr>\n",
              "      <th>541908</th>\n",
              "      <td>581587</td>\n",
              "      <td>22138</td>\n",
              "      <td>BAKING SET 9 PIECE RETROSPOT</td>\n",
              "      <td>3</td>\n",
              "      <td>2011-12-09 12:50:00</td>\n",
              "      <td>4.95</td>\n",
              "      <td>12680.0</td>\n",
              "      <td>France</td>\n",
              "    </tr>\n",
              "  </tbody>\n",
              "</table>\n",
              "<p>541909 rows × 8 columns</p>\n",
              "</div>\n",
              "      <button class=\"colab-df-convert\" onclick=\"convertToInteractive('df-c859a66f-fb4d-4f83-b071-d5065270fb03')\"\n",
              "              title=\"Convert this dataframe to an interactive table.\"\n",
              "              style=\"display:none;\">\n",
              "        \n",
              "  <svg xmlns=\"http://www.w3.org/2000/svg\" height=\"24px\"viewBox=\"0 0 24 24\"\n",
              "       width=\"24px\">\n",
              "    <path d=\"M0 0h24v24H0V0z\" fill=\"none\"/>\n",
              "    <path d=\"M18.56 5.44l.94 2.06.94-2.06 2.06-.94-2.06-.94-.94-2.06-.94 2.06-2.06.94zm-11 1L8.5 8.5l.94-2.06 2.06-.94-2.06-.94L8.5 2.5l-.94 2.06-2.06.94zm10 10l.94 2.06.94-2.06 2.06-.94-2.06-.94-.94-2.06-.94 2.06-2.06.94z\"/><path d=\"M17.41 7.96l-1.37-1.37c-.4-.4-.92-.59-1.43-.59-.52 0-1.04.2-1.43.59L10.3 9.45l-7.72 7.72c-.78.78-.78 2.05 0 2.83L4 21.41c.39.39.9.59 1.41.59.51 0 1.02-.2 1.41-.59l7.78-7.78 2.81-2.81c.8-.78.8-2.07 0-2.86zM5.41 20L4 18.59l7.72-7.72 1.47 1.35L5.41 20z\"/>\n",
              "  </svg>\n",
              "      </button>\n",
              "      \n",
              "  <style>\n",
              "    .colab-df-container {\n",
              "      display:flex;\n",
              "      flex-wrap:wrap;\n",
              "      gap: 12px;\n",
              "    }\n",
              "\n",
              "    .colab-df-convert {\n",
              "      background-color: #E8F0FE;\n",
              "      border: none;\n",
              "      border-radius: 50%;\n",
              "      cursor: pointer;\n",
              "      display: none;\n",
              "      fill: #1967D2;\n",
              "      height: 32px;\n",
              "      padding: 0 0 0 0;\n",
              "      width: 32px;\n",
              "    }\n",
              "\n",
              "    .colab-df-convert:hover {\n",
              "      background-color: #E2EBFA;\n",
              "      box-shadow: 0px 1px 2px rgba(60, 64, 67, 0.3), 0px 1px 3px 1px rgba(60, 64, 67, 0.15);\n",
              "      fill: #174EA6;\n",
              "    }\n",
              "\n",
              "    [theme=dark] .colab-df-convert {\n",
              "      background-color: #3B4455;\n",
              "      fill: #D2E3FC;\n",
              "    }\n",
              "\n",
              "    [theme=dark] .colab-df-convert:hover {\n",
              "      background-color: #434B5C;\n",
              "      box-shadow: 0px 1px 3px 1px rgba(0, 0, 0, 0.15);\n",
              "      filter: drop-shadow(0px 1px 2px rgba(0, 0, 0, 0.3));\n",
              "      fill: #FFFFFF;\n",
              "    }\n",
              "  </style>\n",
              "\n",
              "      <script>\n",
              "        const buttonEl =\n",
              "          document.querySelector('#df-c859a66f-fb4d-4f83-b071-d5065270fb03 button.colab-df-convert');\n",
              "        buttonEl.style.display =\n",
              "          google.colab.kernel.accessAllowed ? 'block' : 'none';\n",
              "\n",
              "        async function convertToInteractive(key) {\n",
              "          const element = document.querySelector('#df-c859a66f-fb4d-4f83-b071-d5065270fb03');\n",
              "          const dataTable =\n",
              "            await google.colab.kernel.invokeFunction('convertToInteractive',\n",
              "                                                     [key], {});\n",
              "          if (!dataTable) return;\n",
              "\n",
              "          const docLinkHtml = 'Like what you see? Visit the ' +\n",
              "            '<a target=\"_blank\" href=https://colab.research.google.com/notebooks/data_table.ipynb>data table notebook</a>'\n",
              "            + ' to learn more about interactive tables.';\n",
              "          element.innerHTML = '';\n",
              "          dataTable['output_type'] = 'display_data';\n",
              "          await google.colab.output.renderOutput(dataTable, element);\n",
              "          const docLink = document.createElement('div');\n",
              "          docLink.innerHTML = docLinkHtml;\n",
              "          element.appendChild(docLink);\n",
              "        }\n",
              "      </script>\n",
              "    </div>\n",
              "  </div>\n",
              "  "
            ]
          },
          "metadata": {},
          "execution_count": 8
        }
      ]
    },
    {
      "cell_type": "code",
      "source": [
        "events_df.info()"
      ],
      "metadata": {
        "colab": {
          "base_uri": "https://localhost:8080/"
        },
        "id": "gqYRjvDCX-AH",
        "outputId": "f4ccb34b-e853-44b8-c3db-0e114bf6e3ba"
      },
      "execution_count": null,
      "outputs": [
        {
          "output_type": "stream",
          "name": "stdout",
          "text": [
            "<class 'pandas.core.frame.DataFrame'>\n",
            "RangeIndex: 541909 entries, 0 to 541908\n",
            "Data columns (total 8 columns):\n",
            " #   Column       Non-Null Count   Dtype         \n",
            "---  ------       --------------   -----         \n",
            " 0   InvoiceNo    541909 non-null  object        \n",
            " 1   StockCode    541909 non-null  object        \n",
            " 2   Description  540455 non-null  object        \n",
            " 3   Quantity     541909 non-null  int64         \n",
            " 4   InvoiceDate  541909 non-null  datetime64[ns]\n",
            " 5   UnitPrice    541909 non-null  float64       \n",
            " 6   CustomerID   406829 non-null  float64       \n",
            " 7   Country      541909 non-null  object        \n",
            "dtypes: datetime64[ns](1), float64(2), int64(1), object(4)\n",
            "memory usage: 33.1+ MB\n"
          ]
        }
      ]
    },
    {
      "cell_type": "code",
      "source": [
        "events_df['StockCode'] = events_df['StockCode'].astype(str).str.replace(r'\\D', '')\n",
        "events_df = events_df[events_df['StockCode'] != '']\n",
        "events_df['StockCode'] = events_df['StockCode'].astype(int)"
      ],
      "metadata": {
        "colab": {
          "base_uri": "https://localhost:8080/"
        },
        "id": "CmxhEX2y41lM",
        "outputId": "d90d174b-6e7b-49b5-d00b-1e5f1e672b33"
      },
      "execution_count": null,
      "outputs": [
        {
          "output_type": "stream",
          "name": "stderr",
          "text": [
            "/usr/local/lib/python3.7/dist-packages/ipykernel_launcher.py:1: FutureWarning: The default value of regex will change from True to False in a future version.\n",
            "  \"\"\"Entry point for launching an IPython kernel.\n"
          ]
        }
      ]
    },
    {
      "cell_type": "code",
      "source": [
        "#для ворд2века\n",
        "events_df['StockCode'] = events_df['StockCode'].astype(str)"
      ],
      "metadata": {
        "id": "RNnfYdvrQyAi"
      },
      "execution_count": null,
      "outputs": []
    },
    {
      "cell_type": "code",
      "source": [
        "events_df['InvoiceNo'] = events_df['InvoiceNo'].astype(str).str.replace(r'\\D', '')\n",
        "events_df = events_df[events_df['InvoiceNo'] != '']\n",
        "events_df['InvoiceNo'] = events_df['InvoiceNo'].astype(int)"
      ],
      "metadata": {
        "colab": {
          "base_uri": "https://localhost:8080/"
        },
        "id": "KGBze2gu44oj",
        "outputId": "27e73bd0-43d6-4ced-e71e-943c595b8486"
      },
      "execution_count": null,
      "outputs": [
        {
          "output_type": "stream",
          "name": "stderr",
          "text": [
            "/usr/local/lib/python3.7/dist-packages/ipykernel_launcher.py:1: FutureWarning: The default value of regex will change from True to False in a future version.\n",
            "  \"\"\"Entry point for launching an IPython kernel.\n"
          ]
        }
      ]
    },
    {
      "cell_type": "code",
      "source": [
        "events_df_filtered = events_df"
      ],
      "metadata": {
        "id": "HP6N9llH5Cs-"
      },
      "execution_count": null,
      "outputs": []
    },
    {
      "cell_type": "code",
      "source": [
        "# отфильтровываем, смотрим, чтоб были только сессии как минимум с 2 товарами\n",
        "visit_counts_per_visitor = events_df_filtered['InvoiceNo'].value_counts(dropna=False)\n",
        "visit_counts_per_visitor.head()\n",
        "\n",
        "visitors_with_significant_visits = visit_counts_per_visitor[\n",
        "    visit_counts_per_visitor > 1\n",
        "].index\n",
        "events_df_filtered = events_df_filtered[\n",
        "    events_df_filtered['InvoiceNo'].isin(visitors_with_significant_visits)]"
      ],
      "metadata": {
        "id": "vVFw-VHm5Gm8"
      },
      "execution_count": null,
      "outputs": []
    },
    {
      "cell_type": "code",
      "source": [
        "visits_by_visitors = {} \n",
        "for _, row in enumerate(tqdm(events_df_filtered.iterrows())):\n",
        "    InvoiceNo, StockCode, Description, Quantity, InvoiceDate, UnitPrice, CustomerID, Country = row[1].values\n",
        "\n",
        "    if InvoiceNo not in visits_by_visitors:\n",
        "        visits_by_visitors[InvoiceNo] = {'itemids': [], 'timestamps': []}\n",
        "    visits_by_visitors[InvoiceNo]['itemids'].append(StockCode)\n",
        "    visits_by_visitors[InvoiceNo]['timestamps'].append(InvoiceDate)\n",
        "\n",
        "print()\n",
        "print(f'There are {len(visits_by_visitors)} visitors left.')"
      ],
      "metadata": {
        "colab": {
          "base_uri": "https://localhost:8080/"
        },
        "id": "bVwfP9sV5RAU",
        "outputId": "0e022cb9-c799-4525-fc58-5987fcb5d1a1"
      },
      "execution_count": null,
      "outputs": [
        {
          "output_type": "stream",
          "name": "stderr",
          "text": [
            "536068it [00:25, 20925.37it/s]"
          ]
        },
        {
          "output_type": "stream",
          "name": "stdout",
          "text": [
            "\n",
            "There are 20059 visitors left.\n"
          ]
        },
        {
          "output_type": "stream",
          "name": "stderr",
          "text": [
            "\n"
          ]
        }
      ]
    },
    {
      "cell_type": "code",
      "source": [
        "sessions_by_visitors = {}\n",
        "for _, row in enumerate(tqdm(events_df_filtered.iterrows())):\n",
        "    InvoiceNo, StockCode, Description, Quantity, InvoiceDate, UnitPrice, CustomerID, Country = row[1].values\n",
        "\n",
        "    if InvoiceNo not in sessions_by_visitors:\n",
        "        sessions_by_visitors[InvoiceNo] = [[]]\n",
        "    sessions_by_visitors[InvoiceNo][-1].append(StockCode)\n",
        "#visitor_dict['StockCodes'] = [visitor_dict['StockCodes'][:-1], [visitor_dict['StockCodes'][-1]]]\n",
        "\n",
        " "
      ],
      "metadata": {
        "colab": {
          "base_uri": "https://localhost:8080/"
        },
        "id": "owgNmIeF6GIb",
        "outputId": "4879e496-da4a-41ad-e84f-9cf4bab24f0e"
      },
      "execution_count": null,
      "outputs": [
        {
          "output_type": "stream",
          "name": "stderr",
          "text": [
            "536068it [00:25, 21258.17it/s]\n"
          ]
        }
      ]
    },
    {
      "cell_type": "code",
      "execution_count": null,
      "metadata": {
        "colab": {
          "base_uri": "https://localhost:8080/",
          "height": 300
        },
        "id": "oD7SEiObBC8x",
        "outputId": "43a1b521-2c65-435f-e62b-359fd63468ad"
      },
      "outputs": [
        {
          "output_type": "execute_result",
          "data": {
            "text/plain": [
              "           InvoiceNo       Quantity      UnitPrice     CustomerID\n",
              "count  541909.000000  541909.000000  541909.000000  406829.000000\n",
              "mean   559946.967325       9.552250       4.611114   15287.690570\n",
              "std     13421.287454     218.081158      96.759853    1713.600303\n",
              "min    536365.000000  -80995.000000  -11062.060000   12346.000000\n",
              "25%    547896.000000       1.000000       1.250000   13953.000000\n",
              "50%    560601.000000       3.000000       2.080000   15152.000000\n",
              "75%    571779.000000      10.000000       4.130000   16791.000000\n",
              "max    581587.000000   80995.000000   38970.000000   18287.000000"
            ],
            "text/html": [
              "\n",
              "  <div id=\"df-8c8be3ee-593f-42ab-9e80-9bf363333acd\">\n",
              "    <div class=\"colab-df-container\">\n",
              "      <div>\n",
              "<style scoped>\n",
              "    .dataframe tbody tr th:only-of-type {\n",
              "        vertical-align: middle;\n",
              "    }\n",
              "\n",
              "    .dataframe tbody tr th {\n",
              "        vertical-align: top;\n",
              "    }\n",
              "\n",
              "    .dataframe thead th {\n",
              "        text-align: right;\n",
              "    }\n",
              "</style>\n",
              "<table border=\"1\" class=\"dataframe\">\n",
              "  <thead>\n",
              "    <tr style=\"text-align: right;\">\n",
              "      <th></th>\n",
              "      <th>InvoiceNo</th>\n",
              "      <th>Quantity</th>\n",
              "      <th>UnitPrice</th>\n",
              "      <th>CustomerID</th>\n",
              "    </tr>\n",
              "  </thead>\n",
              "  <tbody>\n",
              "    <tr>\n",
              "      <th>count</th>\n",
              "      <td>541909.000000</td>\n",
              "      <td>541909.000000</td>\n",
              "      <td>541909.000000</td>\n",
              "      <td>406829.000000</td>\n",
              "    </tr>\n",
              "    <tr>\n",
              "      <th>mean</th>\n",
              "      <td>559946.967325</td>\n",
              "      <td>9.552250</td>\n",
              "      <td>4.611114</td>\n",
              "      <td>15287.690570</td>\n",
              "    </tr>\n",
              "    <tr>\n",
              "      <th>std</th>\n",
              "      <td>13421.287454</td>\n",
              "      <td>218.081158</td>\n",
              "      <td>96.759853</td>\n",
              "      <td>1713.600303</td>\n",
              "    </tr>\n",
              "    <tr>\n",
              "      <th>min</th>\n",
              "      <td>536365.000000</td>\n",
              "      <td>-80995.000000</td>\n",
              "      <td>-11062.060000</td>\n",
              "      <td>12346.000000</td>\n",
              "    </tr>\n",
              "    <tr>\n",
              "      <th>25%</th>\n",
              "      <td>547896.000000</td>\n",
              "      <td>1.000000</td>\n",
              "      <td>1.250000</td>\n",
              "      <td>13953.000000</td>\n",
              "    </tr>\n",
              "    <tr>\n",
              "      <th>50%</th>\n",
              "      <td>560601.000000</td>\n",
              "      <td>3.000000</td>\n",
              "      <td>2.080000</td>\n",
              "      <td>15152.000000</td>\n",
              "    </tr>\n",
              "    <tr>\n",
              "      <th>75%</th>\n",
              "      <td>571779.000000</td>\n",
              "      <td>10.000000</td>\n",
              "      <td>4.130000</td>\n",
              "      <td>16791.000000</td>\n",
              "    </tr>\n",
              "    <tr>\n",
              "      <th>max</th>\n",
              "      <td>581587.000000</td>\n",
              "      <td>80995.000000</td>\n",
              "      <td>38970.000000</td>\n",
              "      <td>18287.000000</td>\n",
              "    </tr>\n",
              "  </tbody>\n",
              "</table>\n",
              "</div>\n",
              "      <button class=\"colab-df-convert\" onclick=\"convertToInteractive('df-8c8be3ee-593f-42ab-9e80-9bf363333acd')\"\n",
              "              title=\"Convert this dataframe to an interactive table.\"\n",
              "              style=\"display:none;\">\n",
              "        \n",
              "  <svg xmlns=\"http://www.w3.org/2000/svg\" height=\"24px\"viewBox=\"0 0 24 24\"\n",
              "       width=\"24px\">\n",
              "    <path d=\"M0 0h24v24H0V0z\" fill=\"none\"/>\n",
              "    <path d=\"M18.56 5.44l.94 2.06.94-2.06 2.06-.94-2.06-.94-.94-2.06-.94 2.06-2.06.94zm-11 1L8.5 8.5l.94-2.06 2.06-.94-2.06-.94L8.5 2.5l-.94 2.06-2.06.94zm10 10l.94 2.06.94-2.06 2.06-.94-2.06-.94-.94-2.06-.94 2.06-2.06.94z\"/><path d=\"M17.41 7.96l-1.37-1.37c-.4-.4-.92-.59-1.43-.59-.52 0-1.04.2-1.43.59L10.3 9.45l-7.72 7.72c-.78.78-.78 2.05 0 2.83L4 21.41c.39.39.9.59 1.41.59.51 0 1.02-.2 1.41-.59l7.78-7.78 2.81-2.81c.8-.78.8-2.07 0-2.86zM5.41 20L4 18.59l7.72-7.72 1.47 1.35L5.41 20z\"/>\n",
              "  </svg>\n",
              "      </button>\n",
              "      \n",
              "  <style>\n",
              "    .colab-df-container {\n",
              "      display:flex;\n",
              "      flex-wrap:wrap;\n",
              "      gap: 12px;\n",
              "    }\n",
              "\n",
              "    .colab-df-convert {\n",
              "      background-color: #E8F0FE;\n",
              "      border: none;\n",
              "      border-radius: 50%;\n",
              "      cursor: pointer;\n",
              "      display: none;\n",
              "      fill: #1967D2;\n",
              "      height: 32px;\n",
              "      padding: 0 0 0 0;\n",
              "      width: 32px;\n",
              "    }\n",
              "\n",
              "    .colab-df-convert:hover {\n",
              "      background-color: #E2EBFA;\n",
              "      box-shadow: 0px 1px 2px rgba(60, 64, 67, 0.3), 0px 1px 3px 1px rgba(60, 64, 67, 0.15);\n",
              "      fill: #174EA6;\n",
              "    }\n",
              "\n",
              "    [theme=dark] .colab-df-convert {\n",
              "      background-color: #3B4455;\n",
              "      fill: #D2E3FC;\n",
              "    }\n",
              "\n",
              "    [theme=dark] .colab-df-convert:hover {\n",
              "      background-color: #434B5C;\n",
              "      box-shadow: 0px 1px 3px 1px rgba(0, 0, 0, 0.15);\n",
              "      filter: drop-shadow(0px 1px 2px rgba(0, 0, 0, 0.3));\n",
              "      fill: #FFFFFF;\n",
              "    }\n",
              "  </style>\n",
              "\n",
              "      <script>\n",
              "        const buttonEl =\n",
              "          document.querySelector('#df-8c8be3ee-593f-42ab-9e80-9bf363333acd button.colab-df-convert');\n",
              "        buttonEl.style.display =\n",
              "          google.colab.kernel.accessAllowed ? 'block' : 'none';\n",
              "\n",
              "        async function convertToInteractive(key) {\n",
              "          const element = document.querySelector('#df-8c8be3ee-593f-42ab-9e80-9bf363333acd');\n",
              "          const dataTable =\n",
              "            await google.colab.kernel.invokeFunction('convertToInteractive',\n",
              "                                                     [key], {});\n",
              "          if (!dataTable) return;\n",
              "\n",
              "          const docLinkHtml = 'Like what you see? Visit the ' +\n",
              "            '<a target=\"_blank\" href=https://colab.research.google.com/notebooks/data_table.ipynb>data table notebook</a>'\n",
              "            + ' to learn more about interactive tables.';\n",
              "          element.innerHTML = '';\n",
              "          dataTable['output_type'] = 'display_data';\n",
              "          await google.colab.output.renderOutput(dataTable, element);\n",
              "          const docLink = document.createElement('div');\n",
              "          docLink.innerHTML = docLinkHtml;\n",
              "          element.appendChild(docLink);\n",
              "        }\n",
              "      </script>\n",
              "    </div>\n",
              "  </div>\n",
              "  "
            ]
          },
          "metadata": {},
          "execution_count": 32
        }
      ],
      "source": [
        "events_df.describe()"
      ]
    },
    {
      "cell_type": "markdown",
      "metadata": {
        "id": "Z4DjtBWb_sdR"
      },
      "source": [
        "## Разделим датасет на обучающую и тестовую выборки\n",
        "\n",
        "Делим датасет по id"
      ]
    },
    {
      "cell_type": "code",
      "source": [
        "# Adjsut sampling rate ([0, 1]) to generate smaller datasets.\n",
        "# Setting `sampling_rate` to 1 will lead to a full dataset split.\n",
        "import random\n",
        "sampling_rate = 1\n",
        "\n",
        "# We use random seed for reproducibility.\n",
        "seed = 42\n",
        "all_visitors = list(sessions_by_visitors.keys())\n",
        "random.Random(seed).shuffle(all_visitors)\n",
        "\n",
        "num_train = int(len(all_visitors) * 0.8 * sampling_rate)\n",
        "num_val = int(len(all_visitors) * 0.1 * sampling_rate)\n",
        "num_test = int(len(all_visitors) * 0.1 * sampling_rate)\n",
        "\n",
        "train_visitors = all_visitors[:num_train]\n",
        "val_visitors = all_visitors[num_train : num_train+num_val]\n",
        "test_visitors = all_visitors[num_train+num_val:num_train+num_val+num_test]"
      ],
      "metadata": {
        "id": "ObgDGDa67Cl5"
      },
      "execution_count": null,
      "outputs": []
    },
    {
      "cell_type": "code",
      "source": [
        "all_train_visitors = (train_visitors + val_visitors)"
      ],
      "metadata": {
        "id": "6gBIGdzlI5nm"
      },
      "execution_count": null,
      "outputs": []
    },
    {
      "cell_type": "markdown",
      "source": [
        "# Word2vec"
      ],
      "metadata": {
        "id": "O_kWS3e4Ie4b"
      }
    },
    {
      "cell_type": "markdown",
      "source": [
        "Идея следующая:как при применении в текстах с помощью word2vec можно искать ближайшие токены вокруг, в нашем случае будет анализироватся контекст внутри сессий."
      ],
      "metadata": {
        "id": "Fao4-BFXq2qd"
      }
    },
    {
      "cell_type": "code",
      "source": [
        "#hide\n",
        "import pandas as pd\n",
        "import numpy as np\n",
        "import random\n",
        "from tqdm import tqdm\n",
        "from gensim.models import Word2Vec \n",
        "import matplotlib.pyplot as plt\n",
        "%matplotlib inline\n",
        "\n",
        "import warnings;\n",
        "warnings.filterwarnings('ignore')"
      ],
      "metadata": {
        "id": "Qx7pvBvHQB-C"
      },
      "execution_count": null,
      "outputs": []
    },
    {
      "cell_type": "code",
      "source": [
        "test_w2v = events_df[events_df['InvoiceNo'].isin(test_visitors)] # тест\n",
        "train_w2v = events_df[events_df['InvoiceNo'].isin(all_train_visitors)] # трейн"
      ],
      "metadata": {
        "id": "hFecU2cVImgY"
      },
      "execution_count": null,
      "outputs": []
    },
    {
      "cell_type": "code",
      "source": [
        "# список сессий с товарами в трейне\n",
        "purchases_train = []\n",
        "\n",
        "for i in tqdm(all_train_visitors):\n",
        "    temp = train_w2v[train_w2v[\"InvoiceNo\"] == i][\"StockCode\"].tolist()\n",
        "    purchases_train.append(temp)"
      ],
      "metadata": {
        "colab": {
          "base_uri": "https://localhost:8080/"
        },
        "id": "6HZQ6kywPHfM",
        "outputId": "d328b7c1-2b15-452f-ea1a-6cbe32ffe53f"
      },
      "execution_count": null,
      "outputs": [
        {
          "output_type": "stream",
          "name": "stderr",
          "text": [
            "100%|██████████| 18052/18052 [00:16<00:00, 1069.40it/s]\n"
          ]
        }
      ]
    },
    {
      "cell_type": "code",
      "source": [
        "# список сессий с товарами в тесте\n",
        "\n",
        "purchases_test = []\n",
        "\n",
        "for i in tqdm(test_visitors):\n",
        "    temp = test_w2v[test_w2v[\"InvoiceNo\"] == i][\"StockCode\"].tolist()\n",
        "    purchases_test.append(temp)"
      ],
      "metadata": {
        "colab": {
          "base_uri": "https://localhost:8080/"
        },
        "id": "oZLBf_HjLVSt",
        "outputId": "07f4fd5c-b2df-4ebe-8737-b720a882c7f2"
      },
      "execution_count": null,
      "outputs": [
        {
          "output_type": "stream",
          "name": "stderr",
          "text": [
            "100%|██████████| 2005/2005 [00:01<00:00, 1925.08it/s]\n"
          ]
        }
      ]
    },
    {
      "cell_type": "code",
      "source": [
        "# обучаем word2vec модель\n",
        "model = Word2Vec(window = 10, sg = 1, hs = 0,\n",
        "                 negative = 10, # for negative sampling\n",
        "                 alpha=0.03, min_alpha=0.0007,\n",
        "                 seed = 14)\n",
        "\n",
        "model.build_vocab(purchases_train, progress_per=200)\n",
        "\n",
        "model.train(purchases_train, total_examples = model.corpus_count, \n",
        "            epochs=10, report_delay=1)"
      ],
      "metadata": {
        "colab": {
          "base_uri": "https://localhost:8080/"
        },
        "id": "QKz_1OiuI_Iv",
        "outputId": "ac0d5683-8138-447b-fa7c-2558d6b4a30c"
      },
      "execution_count": null,
      "outputs": [
        {
          "output_type": "execute_result",
          "data": {
            "text/plain": [
              "(4789309, 4819620)"
            ]
          },
          "metadata": {},
          "execution_count": 39
        }
      ]
    },
    {
      "cell_type": "code",
      "source": [
        "model.save(\"word2vec_2.model\")"
      ],
      "metadata": {
        "id": "dmBxRjlKRygh"
      },
      "execution_count": null,
      "outputs": []
    },
    {
      "cell_type": "code",
      "source": [
        "model.init_sims(replace=True)"
      ],
      "metadata": {
        "id": "OEXSTeHnR7ls"
      },
      "execution_count": null,
      "outputs": []
    },
    {
      "cell_type": "code",
      "source": [
        "print(model)"
      ],
      "metadata": {
        "colab": {
          "base_uri": "https://localhost:8080/"
        },
        "id": "vzlPrmq_SAmW",
        "outputId": "8d54eb98-8d0f-4dac-8bad-03b3ffafd069"
      },
      "execution_count": null,
      "outputs": [
        {
          "output_type": "stream",
          "name": "stdout",
          "text": [
            "Word2Vec(vocab=3438, size=100, alpha=0.03)\n"
          ]
        }
      ]
    },
    {
      "cell_type": "code",
      "source": [
        "X = model[model.wv.vocab]\n",
        "\n",
        "X.shape"
      ],
      "metadata": {
        "colab": {
          "base_uri": "https://localhost:8080/"
        },
        "id": "sqgheXj6SF6a",
        "outputId": "04c4ae0a-69c0-45fb-e03e-36270271041c"
      },
      "execution_count": null,
      "outputs": [
        {
          "output_type": "execute_result",
          "data": {
            "text/plain": [
              "(3438, 100)"
            ]
          },
          "metadata": {},
          "execution_count": 43
        }
      ]
    },
    {
      "cell_type": "code",
      "source": [
        "# Визуализация\n",
        "!pip install umap-learn"
      ],
      "metadata": {
        "colab": {
          "base_uri": "https://localhost:8080/"
        },
        "id": "GNL34V1QSMC7",
        "outputId": "474563c8-191a-4f47-85f8-fb17471f5cbe"
      },
      "execution_count": null,
      "outputs": [
        {
          "output_type": "stream",
          "name": "stdout",
          "text": [
            "Looking in indexes: https://pypi.org/simple, https://us-python.pkg.dev/colab-wheels/public/simple/\n",
            "Collecting umap-learn\n",
            "  Downloading umap-learn-0.5.3.tar.gz (88 kB)\n",
            "\u001b[K     |████████████████████████████████| 88 kB 7.0 MB/s \n",
            "\u001b[?25hRequirement already satisfied: numpy>=1.17 in /usr/local/lib/python3.7/dist-packages (from umap-learn) (1.21.6)\n",
            "Requirement already satisfied: scikit-learn>=0.22 in /usr/local/lib/python3.7/dist-packages (from umap-learn) (1.0.2)\n",
            "Requirement already satisfied: scipy>=1.0 in /usr/local/lib/python3.7/dist-packages (from umap-learn) (1.7.3)\n",
            "Requirement already satisfied: numba>=0.49 in /usr/local/lib/python3.7/dist-packages (from umap-learn) (0.56.0)\n",
            "Collecting pynndescent>=0.5\n",
            "  Downloading pynndescent-0.5.7.tar.gz (1.1 MB)\n",
            "\u001b[K     |████████████████████████████████| 1.1 MB 56.9 MB/s \n",
            "\u001b[?25hRequirement already satisfied: tqdm in /usr/local/lib/python3.7/dist-packages (from umap-learn) (4.64.0)\n",
            "Requirement already satisfied: setuptools in /usr/local/lib/python3.7/dist-packages (from numba>=0.49->umap-learn) (57.4.0)\n",
            "Requirement already satisfied: importlib-metadata in /usr/local/lib/python3.7/dist-packages (from numba>=0.49->umap-learn) (4.12.0)\n",
            "Requirement already satisfied: llvmlite<0.40,>=0.39.0dev0 in /usr/local/lib/python3.7/dist-packages (from numba>=0.49->umap-learn) (0.39.0)\n",
            "Requirement already satisfied: joblib>=0.11 in /usr/local/lib/python3.7/dist-packages (from pynndescent>=0.5->umap-learn) (1.1.0)\n",
            "Requirement already satisfied: threadpoolctl>=2.0.0 in /usr/local/lib/python3.7/dist-packages (from scikit-learn>=0.22->umap-learn) (3.1.0)\n",
            "Requirement already satisfied: zipp>=0.5 in /usr/local/lib/python3.7/dist-packages (from importlib-metadata->numba>=0.49->umap-learn) (3.8.1)\n",
            "Requirement already satisfied: typing-extensions>=3.6.4 in /usr/local/lib/python3.7/dist-packages (from importlib-metadata->numba>=0.49->umap-learn) (4.1.1)\n",
            "Building wheels for collected packages: umap-learn, pynndescent\n",
            "  Building wheel for umap-learn (setup.py) ... \u001b[?25l\u001b[?25hdone\n",
            "  Created wheel for umap-learn: filename=umap_learn-0.5.3-py3-none-any.whl size=82829 sha256=5911ff6c948d1cc80cc30f2a2af6fbe2e6ef899c229bc495bd4f88278c74cfa6\n",
            "  Stored in directory: /root/.cache/pip/wheels/b3/52/a5/1fd9e3e76a7ab34f134c07469cd6f16e27ef3a37aeff1fe821\n",
            "  Building wheel for pynndescent (setup.py) ... \u001b[?25l\u001b[?25hdone\n",
            "  Created wheel for pynndescent: filename=pynndescent-0.5.7-py3-none-any.whl size=54286 sha256=0b9703303fa65624e72a48e1fee5b486cde49854eca5994049e077b8504db276\n",
            "  Stored in directory: /root/.cache/pip/wheels/7f/2a/f8/7bd5dcec71bd5c669f6f574db3113513696b98f3f9b51f496c\n",
            "Successfully built umap-learn pynndescent\n",
            "Installing collected packages: pynndescent, umap-learn\n",
            "Successfully installed pynndescent-0.5.7 umap-learn-0.5.3\n"
          ]
        }
      ]
    },
    {
      "cell_type": "markdown",
      "source": [
        "Каждая точка обозначает товар. Мы можем видеть, что образуются группы похожих товаров"
      ],
      "metadata": {
        "id": "Ht1nuHX9p16B"
      }
    },
    {
      "cell_type": "code",
      "source": [
        "# Можем наблюдать кластеры\n",
        "import umap\n",
        "\n",
        "cluster_embedding = umap.UMAP(n_neighbors=30, min_dist=0.0,\n",
        "                              n_components=2, random_state=42).fit_transform(X)\n",
        "\n",
        "plt.figure(figsize=(10,9))\n",
        "plt.scatter(cluster_embedding[:, 0], cluster_embedding[:, 1], s=3, cmap='Spectral');"
      ],
      "metadata": {
        "colab": {
          "base_uri": "https://localhost:8080/",
          "height": 537
        },
        "id": "W-9x4SFFSUut",
        "outputId": "4f2a0c93-31e0-468f-f4d0-b1b6a2284e13"
      },
      "execution_count": null,
      "outputs": [
        {
          "output_type": "display_data",
          "data": {
            "text/plain": [
              "<Figure size 720x648 with 1 Axes>"
            ],
            "image/png": "[encoded data removed]"
          },
          "metadata": {
            "needs_background": "light"
          }
        }
      ]
    },
    {
      "cell_type": "code",
      "source": [
        "products = train_w2v[[\"StockCode\", \"Description\"]]\n",
        "\n",
        "# убираем дубликаты\n",
        "products.drop_duplicates(inplace=True, subset='StockCode', keep=\"last\")\n",
        "\n",
        "# создали StockCode и Description словарь\n",
        "products_dict = products.groupby('StockCode')['Description'].apply(list).to_dict()"
      ],
      "metadata": {
        "id": "jrRVmr7DS2o6"
      },
      "execution_count": null,
      "outputs": []
    },
    {
      "cell_type": "code",
      "source": [
        "# функция для нахождения схожих товаров\n",
        "def similar_products(v, n = 20):\n",
        "    \n",
        "    # определение n похожих товаров\n",
        "    ms = model.similar_by_vector(v, topn= n+1)[1:]\n",
        "    \n",
        "    # подсчет скора, показывающего схожесть товаров\n",
        "    new_ms = []\n",
        "    for j in ms:\n",
        "        pair = (products_dict[j[0]][0], j[1])\n",
        "        new_ms.append(pair)\n",
        "        \n",
        "    return new_ms  "
      ],
      "metadata": {
        "id": "UBr9EiGPTcpY"
      },
      "execution_count": null,
      "outputs": []
    },
    {
      "cell_type": "code",
      "source": [
        "test_w2v"
      ],
      "metadata": {
        "colab": {
          "base_uri": "https://localhost:8080/",
          "height": 424
        },
        "id": "g_L4YDxYTkJN",
        "outputId": "626a786a-0b8c-4050-cead-60706368866a"
      },
      "execution_count": null,
      "outputs": [
        {
          "output_type": "execute_result",
          "data": {
            "text/plain": [
              "        InvoiceNo StockCode                          Description  Quantity  \\\n",
              "155        536384     82484    WOOD BLACK BOARD ANT WHITE FINISH         3   \n",
              "156        536384     84755  COLOUR GLASS T-LIGHT HOLDER HANGING        48   \n",
              "157        536384     22464          HANGING METAL HEART LANTERN        12   \n",
              "158        536384     21324         HANGING MEDINA LANTERN SMALL         6   \n",
              "159        536384     22457      NATURAL SLATE HEART CHALKBOARD         12   \n",
              "...           ...       ...                                  ...       ...   \n",
              "539176     581436     22726           ALARM CLOCK BAKELIKE GREEN         4   \n",
              "539177     581436     23428       IVORY RETRO KITCHEN WALL CLOCK         4   \n",
              "539178     581436     22087             PAPER BUNTING WHITE LACE        24   \n",
              "541867     581584     20832     RED FLOCK LOVE HEART PHOTO FRAME        72   \n",
              "541868     581584     85038      6 CHOCOLATE LOVE HEART T-LIGHTS        48   \n",
              "\n",
              "               InvoiceDate  UnitPrice  CustomerID         Country  \n",
              "155    2010-12-01 09:53:00       6.45     18074.0  United Kingdom  \n",
              "156    2010-12-01 09:53:00       0.65     18074.0  United Kingdom  \n",
              "157    2010-12-01 09:53:00       1.65     18074.0  United Kingdom  \n",
              "158    2010-12-01 09:53:00       2.95     18074.0  United Kingdom  \n",
              "159    2010-12-01 09:53:00       2.95     18074.0  United Kingdom  \n",
              "...                    ...        ...         ...             ...  \n",
              "539176 2011-12-08 16:18:00       3.75     17491.0  United Kingdom  \n",
              "539177 2011-12-08 16:18:00       8.15     17491.0  United Kingdom  \n",
              "539178 2011-12-08 16:18:00       2.95     17491.0  United Kingdom  \n",
              "541867 2011-12-09 12:25:00       0.72     13777.0  United Kingdom  \n",
              "541868 2011-12-09 12:25:00       1.85     13777.0  United Kingdom  \n",
              "\n",
              "[54061 rows x 8 columns]"
            ],
            "text/html": [
              "\n",
              "  <div id=\"df-25cbfe05-637e-4548-8c5a-d8421bbdd466\">\n",
              "    <div class=\"colab-df-container\">\n",
              "      <div>\n",
              "<style scoped>\n",
              "    .dataframe tbody tr th:only-of-type {\n",
              "        vertical-align: middle;\n",
              "    }\n",
              "\n",
              "    .dataframe tbody tr th {\n",
              "        vertical-align: top;\n",
              "    }\n",
              "\n",
              "    .dataframe thead th {\n",
              "        text-align: right;\n",
              "    }\n",
              "</style>\n",
              "<table border=\"1\" class=\"dataframe\">\n",
              "  <thead>\n",
              "    <tr style=\"text-align: right;\">\n",
              "      <th></th>\n",
              "      <th>InvoiceNo</th>\n",
              "      <th>StockCode</th>\n",
              "      <th>Description</th>\n",
              "      <th>Quantity</th>\n",
              "      <th>InvoiceDate</th>\n",
              "      <th>UnitPrice</th>\n",
              "      <th>CustomerID</th>\n",
              "      <th>Country</th>\n",
              "    </tr>\n",
              "  </thead>\n",
              "  <tbody>\n",
              "    <tr>\n",
              "      <th>155</th>\n",
              "      <td>536384</td>\n",
              "      <td>82484</td>\n",
              "      <td>WOOD BLACK BOARD ANT WHITE FINISH</td>\n",
              "      <td>3</td>\n",
              "      <td>2010-12-01 09:53:00</td>\n",
              "      <td>6.45</td>\n",
              "      <td>18074.0</td>\n",
              "      <td>United Kingdom</td>\n",
              "    </tr>\n",
              "    <tr>\n",
              "      <th>156</th>\n",
              "      <td>536384</td>\n",
              "      <td>84755</td>\n",
              "      <td>COLOUR GLASS T-LIGHT HOLDER HANGING</td>\n",
              "      <td>48</td>\n",
              "      <td>2010-12-01 09:53:00</td>\n",
              "      <td>0.65</td>\n",
              "      <td>18074.0</td>\n",
              "      <td>United Kingdom</td>\n",
              "    </tr>\n",
              "    <tr>\n",
              "      <th>157</th>\n",
              "      <td>536384</td>\n",
              "      <td>22464</td>\n",
              "      <td>HANGING METAL HEART LANTERN</td>\n",
              "      <td>12</td>\n",
              "      <td>2010-12-01 09:53:00</td>\n",
              "      <td>1.65</td>\n",
              "      <td>18074.0</td>\n",
              "      <td>United Kingdom</td>\n",
              "    </tr>\n",
              "    <tr>\n",
              "      <th>158</th>\n",
              "      <td>536384</td>\n",
              "      <td>21324</td>\n",
              "      <td>HANGING MEDINA LANTERN SMALL</td>\n",
              "      <td>6</td>\n",
              "      <td>2010-12-01 09:53:00</td>\n",
              "      <td>2.95</td>\n",
              "      <td>18074.0</td>\n",
              "      <td>United Kingdom</td>\n",
              "    </tr>\n",
              "    <tr>\n",
              "      <th>159</th>\n",
              "      <td>536384</td>\n",
              "      <td>22457</td>\n",
              "      <td>NATURAL SLATE HEART CHALKBOARD</td>\n",
              "      <td>12</td>\n",
              "      <td>2010-12-01 09:53:00</td>\n",
              "      <td>2.95</td>\n",
              "      <td>18074.0</td>\n",
              "      <td>United Kingdom</td>\n",
              "    </tr>\n",
              "    <tr>\n",
              "      <th>...</th>\n",
              "      <td>...</td>\n",
              "      <td>...</td>\n",
              "      <td>...</td>\n",
              "      <td>...</td>\n",
              "      <td>...</td>\n",
              "      <td>...</td>\n",
              "      <td>...</td>\n",
              "      <td>...</td>\n",
              "    </tr>\n",
              "    <tr>\n",
              "      <th>539176</th>\n",
              "      <td>581436</td>\n",
              "      <td>22726</td>\n",
              "      <td>ALARM CLOCK BAKELIKE GREEN</td>\n",
              "      <td>4</td>\n",
              "      <td>2011-12-08 16:18:00</td>\n",
              "      <td>3.75</td>\n",
              "      <td>17491.0</td>\n",
              "      <td>United Kingdom</td>\n",
              "    </tr>\n",
              "    <tr>\n",
              "      <th>539177</th>\n",
              "      <td>581436</td>\n",
              "      <td>23428</td>\n",
              "      <td>IVORY RETRO KITCHEN WALL CLOCK</td>\n",
              "      <td>4</td>\n",
              "      <td>2011-12-08 16:18:00</td>\n",
              "      <td>8.15</td>\n",
              "      <td>17491.0</td>\n",
              "      <td>United Kingdom</td>\n",
              "    </tr>\n",
              "    <tr>\n",
              "      <th>539178</th>\n",
              "      <td>581436</td>\n",
              "      <td>22087</td>\n",
              "      <td>PAPER BUNTING WHITE LACE</td>\n",
              "      <td>24</td>\n",
              "      <td>2011-12-08 16:18:00</td>\n",
              "      <td>2.95</td>\n",
              "      <td>17491.0</td>\n",
              "      <td>United Kingdom</td>\n",
              "    </tr>\n",
              "    <tr>\n",
              "      <th>541867</th>\n",
              "      <td>581584</td>\n",
              "      <td>20832</td>\n",
              "      <td>RED FLOCK LOVE HEART PHOTO FRAME</td>\n",
              "      <td>72</td>\n",
              "      <td>2011-12-09 12:25:00</td>\n",
              "      <td>0.72</td>\n",
              "      <td>13777.0</td>\n",
              "      <td>United Kingdom</td>\n",
              "    </tr>\n",
              "    <tr>\n",
              "      <th>541868</th>\n",
              "      <td>581584</td>\n",
              "      <td>85038</td>\n",
              "      <td>6 CHOCOLATE LOVE HEART T-LIGHTS</td>\n",
              "      <td>48</td>\n",
              "      <td>2011-12-09 12:25:00</td>\n",
              "      <td>1.85</td>\n",
              "      <td>13777.0</td>\n",
              "      <td>United Kingdom</td>\n",
              "    </tr>\n",
              "  </tbody>\n",
              "</table>\n",
              "<p>54061 rows × 8 columns</p>\n",
              "</div>\n",
              "      <button class=\"colab-df-convert\" onclick=\"convertToInteractive('df-25cbfe05-637e-4548-8c5a-d8421bbdd466')\"\n",
              "              title=\"Convert this dataframe to an interactive table.\"\n",
              "              style=\"display:none;\">\n",
              "        \n",
              "  <svg xmlns=\"http://www.w3.org/2000/svg\" height=\"24px\"viewBox=\"0 0 24 24\"\n",
              "       width=\"24px\">\n",
              "    <path d=\"M0 0h24v24H0V0z\" fill=\"none\"/>\n",
              "    <path d=\"M18.56 5.44l.94 2.06.94-2.06 2.06-.94-2.06-.94-.94-2.06-.94 2.06-2.06.94zm-11 1L8.5 8.5l.94-2.06 2.06-.94-2.06-.94L8.5 2.5l-.94 2.06-2.06.94zm10 10l.94 2.06.94-2.06 2.06-.94-2.06-.94-.94-2.06-.94 2.06-2.06.94z\"/><path d=\"M17.41 7.96l-1.37-1.37c-.4-.4-.92-.59-1.43-.59-.52 0-1.04.2-1.43.59L10.3 9.45l-7.72 7.72c-.78.78-.78 2.05 0 2.83L4 21.41c.39.39.9.59 1.41.59.51 0 1.02-.2 1.41-.59l7.78-7.78 2.81-2.81c.8-.78.8-2.07 0-2.86zM5.41 20L4 18.59l7.72-7.72 1.47 1.35L5.41 20z\"/>\n",
              "  </svg>\n",
              "      </button>\n",
              "      \n",
              "  <style>\n",
              "    .colab-df-container {\n",
              "      display:flex;\n",
              "      flex-wrap:wrap;\n",
              "      gap: 12px;\n",
              "    }\n",
              "\n",
              "    .colab-df-convert {\n",
              "      background-color: #E8F0FE;\n",
              "      border: none;\n",
              "      border-radius: 50%;\n",
              "      cursor: pointer;\n",
              "      display: none;\n",
              "      fill: #1967D2;\n",
              "      height: 32px;\n",
              "      padding: 0 0 0 0;\n",
              "      width: 32px;\n",
              "    }\n",
              "\n",
              "    .colab-df-convert:hover {\n",
              "      background-color: #E2EBFA;\n",
              "      box-shadow: 0px 1px 2px rgba(60, 64, 67, 0.3), 0px 1px 3px 1px rgba(60, 64, 67, 0.15);\n",
              "      fill: #174EA6;\n",
              "    }\n",
              "\n",
              "    [theme=dark] .colab-df-convert {\n",
              "      background-color: #3B4455;\n",
              "      fill: #D2E3FC;\n",
              "    }\n",
              "\n",
              "    [theme=dark] .colab-df-convert:hover {\n",
              "      background-color: #434B5C;\n",
              "      box-shadow: 0px 1px 3px 1px rgba(0, 0, 0, 0.15);\n",
              "      filter: drop-shadow(0px 1px 2px rgba(0, 0, 0, 0.3));\n",
              "      fill: #FFFFFF;\n",
              "    }\n",
              "  </style>\n",
              "\n",
              "      <script>\n",
              "        const buttonEl =\n",
              "          document.querySelector('#df-25cbfe05-637e-4548-8c5a-d8421bbdd466 button.colab-df-convert');\n",
              "        buttonEl.style.display =\n",
              "          google.colab.kernel.accessAllowed ? 'block' : 'none';\n",
              "\n",
              "        async function convertToInteractive(key) {\n",
              "          const element = document.querySelector('#df-25cbfe05-637e-4548-8c5a-d8421bbdd466');\n",
              "          const dataTable =\n",
              "            await google.colab.kernel.invokeFunction('convertToInteractive',\n",
              "                                                     [key], {});\n",
              "          if (!dataTable) return;\n",
              "\n",
              "          const docLinkHtml = 'Like what you see? Visit the ' +\n",
              "            '<a target=\"_blank\" href=https://colab.research.google.com/notebooks/data_table.ipynb>data table notebook</a>'\n",
              "            + ' to learn more about interactive tables.';\n",
              "          element.innerHTML = '';\n",
              "          dataTable['output_type'] = 'display_data';\n",
              "          await google.colab.output.renderOutput(dataTable, element);\n",
              "          const docLink = document.createElement('div');\n",
              "          docLink.innerHTML = docLinkHtml;\n",
              "          element.appendChild(docLink);\n",
              "        }\n",
              "      </script>\n",
              "    </div>\n",
              "  </div>\n",
              "  "
            ]
          },
          "metadata": {},
          "execution_count": 53
        }
      ]
    },
    {
      "cell_type": "code",
      "source": [
        "products_dict['82484'] # взяли товар из теста и нашли 5 похожих "
      ],
      "metadata": {
        "colab": {
          "base_uri": "https://localhost:8080/"
        },
        "id": "1t_QOxsuT4LN",
        "outputId": "65085429-7dc4-4b06-92da-64ee5aaa35c5"
      },
      "execution_count": null,
      "outputs": [
        {
          "output_type": "execute_result",
          "data": {
            "text/plain": [
              "['WOOD BLACK BOARD ANT WHITE FINISH']"
            ]
          },
          "metadata": {},
          "execution_count": 55
        }
      ]
    },
    {
      "cell_type": "code",
      "source": [
        "similar_products(model['82484'], n = 5)"
      ],
      "metadata": {
        "colab": {
          "base_uri": "https://localhost:8080/"
        },
        "id": "EoyRnN49Ti_b",
        "outputId": "eca44556-f44b-4a71-957d-fb9b4412320f"
      },
      "execution_count": null,
      "outputs": [
        {
          "output_type": "execute_result",
          "data": {
            "text/plain": [
              "[('3 DRAWER ANTIQUE WHITE WOOD CABINET', 0.7486175298690796),\n",
              " ('WOODEN FRAME ANTIQUE WHITE ', 0.7065954208374023),\n",
              " ('WOODEN PICTURE FRAME WHITE FINISH', 0.6957124471664429),\n",
              " ('WOOD 2 DRAWER CABINET WHITE FINISH', 0.6899396181106567),\n",
              " ('WHITE MOROCCAN METAL LANTERN', 0.6240553855895996),\n",
              " ('LARGE ZINC GLASS CANDLEHOLDER', 0.6055361032485962)]"
            ]
          },
          "metadata": {},
          "execution_count": 54
        }
      ]
    },
    {
      "cell_type": "code",
      "source": [
        "#Агрегирование векторов ВСЕХ продуктов из сессии в тесте, чтобы искать товары, похожие на всю сессию, а не на конкретный товар из нее\n",
        "def aggregate_vectors(products):\n",
        "    product_vec = []\n",
        "    for i in products:\n",
        "        try:\n",
        "            product_vec.append(model[i])\n",
        "        except KeyError:\n",
        "            continue\n",
        "        \n",
        "    return np.mean(product_vec, axis=0)"
      ],
      "metadata": {
        "id": "Vrj805mvVgmj"
      },
      "execution_count": null,
      "outputs": []
    },
    {
      "cell_type": "code",
      "source": [
        "#hide\n",
        "aggregate_vectors(purchases_test[0]).shape"
      ],
      "metadata": {
        "colab": {
          "base_uri": "https://localhost:8080/"
        },
        "id": "CfAdXwuqVo1A",
        "outputId": "f4b10016-685a-406a-82ab-d1a75d8f566a"
      },
      "execution_count": null,
      "outputs": [
        {
          "output_type": "execute_result",
          "data": {
            "text/plain": [
              "(100,)"
            ]
          },
          "metadata": {},
          "execution_count": 57
        }
      ]
    },
    {
      "cell_type": "markdown",
      "source": [
        "30 рекомендаций следующего элемента в 11ой сессии, учитывая каждый продукт в ней"
      ],
      "metadata": {
        "id": "AoslkyeGdel_"
      }
    },
    {
      "cell_type": "code",
      "source": [
        "similar_products(aggregate_vectors(purchases_test[11][:-1]), n = 30)  "
      ],
      "metadata": {
        "colab": {
          "base_uri": "https://localhost:8080/"
        },
        "id": "yPY1Bu0mVusz",
        "outputId": "8eec4a34-f897-49ea-aee6-8e48fda369b2"
      },
      "execution_count": null,
      "outputs": [
        {
          "output_type": "execute_result",
          "data": {
            "text/plain": [
              "[('LUNCH BAG PINK POLKADOT', 0.6659675240516663),\n",
              " ('LUNCH BAG ALPHABET DESIGN', 0.6619971394538879),\n",
              " ('LUNCH BAG VINTAGE DOILY ', 0.6556226015090942),\n",
              " ('LUNCH BAG VINTAGE LEAF DESIGN', 0.6515102386474609),\n",
              " ('LUNCH BAG RED RETROSPOT', 0.650903582572937),\n",
              " ('LUNCH BAG CARS BLUE', 0.6505046486854553),\n",
              " ('JUMBO BAG VINTAGE LEAF', 0.6427484750747681),\n",
              " ('LUNCH BAG APPLE DESIGN', 0.641869068145752),\n",
              " ('JUMBO BAG VINTAGE DOILY ', 0.6415612697601318),\n",
              " ('LUNCH BAG SPACEBOY DESIGN ', 0.6355056166648865),\n",
              " ('LUNCH BAG DOLLY GIRL DESIGN', 0.6307656764984131),\n",
              " ('LUNCH BAG SUKI DESIGN ', 0.626299262046814),\n",
              " ('JUMBO BAG PEARS', 0.6239145994186401),\n",
              " ('RED RETROSPOT SHOPPER BAG', 0.6230721473693848),\n",
              " ('LUNCH BAG WOODLAND', 0.6226812601089478),\n",
              " ('LILAC GAUZE BUTTERFLY LAMPSHADE', 0.6173720359802246),\n",
              " ('JUMBO BAG ALPHABET', 0.6119866967201233),\n",
              " ('JUMBO BAG APPLES', 0.610069751739502),\n",
              " ('JUMBO STORAGE BAG SKULLS', 0.5997438430786133),\n",
              " ('ORANGE SCENTED SET/9 T-LIGHTS', 0.594342827796936),\n",
              " ('JUMBO BAG PINK VINTAGE PAISLEY', 0.5933206081390381),\n",
              " ('JUMBO BAG SPACEBOY DESIGN', 0.5889041423797607),\n",
              " ('LUNCH BAG  BLACK SKULL.', 0.5879946947097778),\n",
              " ('RED RETROSPOT PICNIC BAG', 0.586499810218811),\n",
              " ('STRAWBERRY   PICNIC BAG', 0.5833156108856201),\n",
              " ('JUMBO BAG RED RETROSPOT', 0.5806772708892822),\n",
              " ('CHARLIE AND LOLA TABLE TINS', 0.5804224014282227),\n",
              " ('STRAWBERRY SHOPPER BAG', 0.5776921510696411),\n",
              " ('JUMBO BAG PINK POLKADOT', 0.577044665813446),\n",
              " ('JUMBO BAG DOLLY GIRL DESIGN', 0.5762650966644287)]"
            ]
          },
          "metadata": {},
          "execution_count": 99
        }
      ]
    },
    {
      "cell_type": "markdown",
      "source": [
        "Состав 11 сессии. Как видим предсказания релевантны, похожи на состав сессии"
      ],
      "metadata": {
        "id": "Pv4gP_sEeWEY"
      }
    },
    {
      "cell_type": "code",
      "source": [
        "\n",
        "for item in purchases_test[11]:\n",
        "    print(item, products_dict[item])"
      ],
      "metadata": {
        "colab": {
          "base_uri": "https://localhost:8080/"
        },
        "id": "Rxx6vRPCWRke",
        "outputId": "a61c1bb3-2431-48a6-ed46-dc2957ec613f"
      },
      "execution_count": null,
      "outputs": [
        {
          "output_type": "stream",
          "name": "stdout",
          "text": [
            "90148 ['LONG SILVER NECKLACE PASTEL FLOWER']\n",
            "90124C ['GREEN MURANO TWIST NECKLACE']\n",
            "90206C ['CRYSTAL DIAMANTE STAR BROOCH']\n",
            "90184B ['AMETHYST CHUNKY BEAD BRACELET W STR']\n",
            "90081C ['LILY BROOCH OLIVE COLOUR']\n",
            "90081A ['LILY BROOCH AMETHYST COLOUR']\n",
            "90030C ['BROWN KUKUI COCONUT SEED NECKLACE']\n",
            "84997B ['CHILDRENS CUTLERY RETROSPOT RED ']\n",
            "84997C ['CHILDRENS CUTLERY POLKADOT BLUE']\n",
            "84997D ['CHILDRENS CUTLERY POLKADOT PINK']\n",
            "23256 ['CHILDRENS CUTLERY SPACEBOY ']\n",
            "23343 ['JUMBO BAG VINTAGE CHRISTMAS ']\n",
            "21584 ['RETROSPOT SMALL TUBE MATCHES']\n",
            "22411 ['JUMBO SHOPPER VINTAGE RED PAISLEY']\n",
            "21929 ['JUMBO BAG PINK VINTAGE PAISLEY']\n",
            "22776 ['SWEETHEART 3 TIER CAKE STAND ']\n",
            "82582 ['AREA PATROLLED METAL SIGN']\n",
            "21165 ['BEWARE OF THE CAT METAL SIGN ']\n",
            "21164 ['HOME SWEET HOME METAL SIGN ']\n",
            "82552 ['WASHROOM METAL SIGN']\n",
            "82551 ['LAUNDRY 15C METAL SIGN']\n",
            "21175 ['GIN AND TONIC DIET METAL SIGN']\n",
            "21174 ['POTTERING IN THE SHED METAL SIGN']\n",
            "22413 ['METAL SIGN TAKE IT OR LEAVE IT ']\n",
            "22675 ['FRENCH KITCHEN SIGN BLUE METAL']\n",
            "22673 ['FRENCH GARDEN SIGN BLUE METAL']\n",
            "22674 ['FRENCH TOILET SIGN BLUE METAL']\n",
            "21770 ['OPEN CLOSED METAL SIGN']\n",
            "84792 ['ENCHANTED BIRD COATHANGER 5 HOOK']\n",
            "23357 ['HOT WATER BOTTLE SEX BOMB']\n",
            "21900 ['KEY FOB , SHED']\n",
            "21899 ['GARAGE KEY FOB']\n",
            "21901 ['KEY FOB , BACK DOOR ']\n",
            "21902 ['KEY FOB , FRONT  DOOR ']\n",
            "47590A ['BLUE HAPPY BIRTHDAY BUNTING']\n",
            "47590B ['PINK HAPPY BIRTHDAY BUNTING']\n",
            "47566B ['TEA TIME PARTY BUNTING']\n",
            "22585 ['PACK OF 6 BIRDY GIFT TAGS']\n",
            "21976 ['PACK OF 60 MUSHROOM CAKE CASES']\n",
            "21975 ['PACK OF 60 DINOSAUR CAKE CASES']\n",
            "22417 ['PACK OF 60 SPACEBOY CAKE CASES']\n",
            "21213 ['PACK OF 72 SKULL CAKE CASES']\n",
            "22951 ['60 CAKE CASES DOLLY GIRL DESIGN']\n",
            "84991 ['60 TEATIME FAIRY CAKE CASES']\n",
            "84992 ['72 SWEETHEART FAIRY CAKE CASES']\n",
            "21977 ['PACK OF 60 PINK PAISLEY CAKE CASES']\n",
            "23309 ['SET OF 60 I LOVE LONDON CAKE CASES ']\n",
            "23307 ['SET OF 60 PANTRY DESIGN CAKE CASES ']\n",
            "21212 ['PACK OF 72 RETROSPOT CAKE CASES']\n",
            "21933 ['PINK VINTAGE PAISLEY PICNIC BAG']\n",
            "23207 ['LUNCH BAG ALPHABET DESIGN']\n",
            "21136 ['PAINTED METAL PEARS ASSORTED']\n",
            "84879 ['ASSORTED COLOUR BIRD ORNAMENT']\n",
            "84755 ['COLOUR GLASS T-LIGHT HOLDER HANGING']\n",
            "22663 ['JUMBO BAG DOLLY GIRL DESIGN']\n",
            "22385 ['JUMBO BAG SPACEBOY DESIGN']\n",
            "85099F ['JUMBO BAG STRAWBERRY']\n",
            "20711 ['JUMBO BAG TOYS ']\n",
            "23202 ['JUMBO BAG VINTAGE LEAF']\n",
            "23201 ['JUMBO BAG ALPHABET']\n",
            "20712 ['JUMBO BAG WOODLAND ANIMALS']\n",
            "85099C ['JUMBO  BAG BAROQUE BLACK WHITE']\n",
            "20713 ['JUMBO BAG OWLS']\n",
            "22386 ['JUMBO BAG PINK POLKADOT']\n",
            "85099B ['JUMBO BAG RED RETROSPOT']\n",
            "21931 ['JUMBO STORAGE BAG SUKI']\n",
            "21479 ['WHITE SKULL HOT WATER BOTTLE ']\n",
            "84032B ['CHARLIE + LOLA RED HOT WATER BOTTLE']\n",
            "22835 ['HOT WATER BOTTLE I AM SO POORLY']\n",
            "84032A ['CHARLIE+LOLA PINK HOT WATER BOTTLE']\n",
            "22114 ['HOT WATER BOTTLE TEA AND SYMPATHY']\n",
            "23358 ['HOT STUFF HOT WATER BOTTLE']\n",
            "21481 ['FAWN BLUE HOT WATER BOTTLE']\n",
            "21933 ['PINK VINTAGE PAISLEY PICNIC BAG']\n",
            "21932 ['SCANDINAVIAN PAISLEY PICNIC BAG']\n",
            "23209 ['LUNCH BAG VINTAGE DOILY ']\n",
            "22110 ['BIRD HOUSE HOT WATER BOTTLE']\n",
            "21484 ['CHICK GREY HOT WATER BOTTLE']\n",
            "22111 ['SCOTTIE DOG HOT WATER BOTTLE']\n",
            "23241 ['TREASURE TIN GYMKHANA DESIGN']\n",
            "23242 ['TREASURE TIN BUFFALO BILL ']\n",
            "22567 ['20 DOLLY PEGS RETROSPOT']\n",
            "22961 ['JAM MAKING SET PRINTED']\n",
            "47593B ['SCOTTIE DOGS BABY BIB']\n",
            "47591D ['PINK FAIRY CAKE CHILDRENS APRON']\n",
            "22558 ['CLOTHES PEGS RETROSPOT PACK 24 ']\n",
            "22367 ['CHILDRENS APRON SPACEBOY DESIGN']\n",
            "21156 ['RETROSPOT CHILDRENS APRON']\n",
            "22898 ['CHILDRENS APRON APPLES DESIGN']\n",
            "21155 ['RED RETROSPOT PEG BAG']\n",
            "85071B ['RED CHARLIE+LOLA PERSONAL DOORSIGN']\n",
            "85071A ['BLUE CHARLIE+LOLA PERSONAL DOORSIGN']\n",
            "85071D ['CHARLIE+LOLA MY ROOM DOOR SIGN']\n",
            "85071C ['CHARLIE+LOLA\"EXTREMELY BUSY\" SIGN']\n",
            "21621 ['VINTAGE UNION JACK BUNTING']\n",
            "20728 ['LUNCH BAG CARS BLUE']\n",
            "23208 ['LUNCH BAG VINTAGE LEAF DESIGN']\n",
            "20726 ['LUNCH BAG WOODLAND']\n",
            "23207 ['LUNCH BAG ALPHABET DESIGN']\n",
            "20727 ['LUNCH BAG  BLACK SKULL.']\n",
            "22382 ['LUNCH BAG SPACEBOY DESIGN ']\n",
            "22662 ['LUNCH BAG DOLLY GIRL DESIGN']\n",
            "21624 ['VINTAGE UNION JACK DOORSTOP']\n",
            "21407 ['BROWN CHECK CAT DOORSTOP ']\n",
            "21115 ['ROSE CARAVAN DOORSTOP']\n",
            "23206 ['LUNCH BAG APPLE DESIGN']\n",
            "22384 ['LUNCH BAG PINK POLKADOT']\n",
            "20725 ['LUNCH BAG RED RETROSPOT']\n",
            "22383 ['LUNCH BAG SUKI DESIGN ']\n",
            "23209 ['LUNCH BAG VINTAGE DOILY ']\n",
            "23199 ['JUMBO BAG APPLES']\n",
            "23200 ['JUMBO BAG PEARS']\n",
            "23203 ['JUMBO BAG VINTAGE DOILY ']\n",
            "23076 ['ICE CREAM SUNDAE LIP GLOSS']\n",
            "22138 ['BAKING SET 9 PIECE RETROSPOT ']\n",
            "21830 ['ASSORTED CREEPY CRAWLIES']\n",
            "23310 ['BUBBLEGUM RING ASSORTED']\n",
            "22372 ['AIRLINE BAG VINTAGE WORLD CHAMPION ']\n",
            "48194 ['DOORMAT HEARTS']\n",
            "48184 ['DOORMAT ENGLISH ROSE ']\n",
            "15056P ['EDWARDIAN PARASOL PINK']\n",
            "15056N ['EDWARDIAN PARASOL NATURAL']\n",
            "20679 ['EDWARDIAN PARASOL RED']\n",
            "21034 ['REX CASH+CARRY JUMBO SHOPPER']\n",
            "85014B ['RED RETROSPOT UMBRELLA']\n",
            "15056BL ['EDWARDIAN PARASOL BLACK']\n",
            "15060B ['FAIRY CAKE DESIGN UMBRELLA']\n",
            "85014A ['BLACK/BLUE POLKADOT UMBRELLA']\n"
          ]
        }
      ]
    },
    {
      "cell_type": "markdown",
      "source": [
        "Однако, сам последний элемент модель не смогла угадать"
      ],
      "metadata": {
        "id": "nap1D4ZBetWP"
      }
    },
    {
      "cell_type": "code",
      "source": [
        "products_dict[purchases_test[11][-1]]"
      ],
      "metadata": {
        "colab": {
          "base_uri": "https://localhost:8080/"
        },
        "id": "bz7ED2lfXBfN",
        "outputId": "028d4fe4-7f0d-498a-cc7c-cedf5e2b686f"
      },
      "execution_count": null,
      "outputs": [
        {
          "output_type": "execute_result",
          "data": {
            "text/plain": [
              "['BLACK/BLUE POLKADOT UMBRELLA']"
            ]
          },
          "metadata": {},
          "execution_count": 93
        }
      ]
    },
    {
      "cell_type": "markdown",
      "source": [
        "# SR-GNN"
      ],
      "metadata": {
        "id": "SVGO2-ODa04w"
      }
    },
    {
      "cell_type": "markdown",
      "source": [
        "\n",
        "Классическая графовая нейронная сеть для задачи Session Based Recommendations. \n",
        "Каждая сессия представляется в виде графа, а товар - в виде узла."
      ],
      "metadata": {
        "id": "6EhhzoQUybtC"
      }
    },
    {
      "cell_type": "markdown",
      "source": [
        "## Препроцессинг"
      ],
      "metadata": {
        "id": "xy7hbHRxbBHI"
      }
    },
    {
      "cell_type": "code",
      "source": [
        "all_train_visitors = (train_visitors + val_visitors)"
      ],
      "metadata": {
        "id": "TUv1fvIOvCWg"
      },
      "execution_count": null,
      "outputs": []
    },
    {
      "cell_type": "code",
      "execution_count": null,
      "metadata": {
        "id": "vOt9UVcesil7"
      },
      "outputs": [],
      "source": [
        "def extract_subsessions(sessions):\n",
        "    \"\"\"Extracts all partial sessions from the sessions given.\n",
        "\n",
        "    For example, a session (1, 2, 3) should be augemnted to produce two\n",
        "    separate sessions (1, 2) and (1, 2, 3).\n",
        "    \"\"\"\n",
        "    all_sessions = []\n",
        "    for session in sessions:\n",
        "        for i in range(1, len(session)):\n",
        "            all_sessions.append(session[:i+1])\n",
        "    return all_sessions"
      ]
    },
    {
      "cell_type": "code",
      "execution_count": null,
      "metadata": {
        "colab": {
          "base_uri": "https://localhost:8080/"
        },
        "id": "dOTFciFbAHDl",
        "outputId": "677e717b-d8a7-4db7-c131-abfda41e4fa6"
      },
      "outputs": [
        {
          "output_type": "stream",
          "name": "stdout",
          "text": [
            "train, val, and test visitors: (15937, 1992, 1992)\n"
          ]
        }
      ],
      "source": [
        "\n",
        "print(f'train, val, and test visitors: {len(train_visitors), len(val_visitors), len(test_visitors)}')\n",
        "\n",
        "# Get sessions of each visitor, generate subsessions of each session, and put\n",
        "# all the generated subsessions into right splits. We generate subsessions\n",
        "# according to the dataset generation policy suggested by the original SR-GNN\n",
        "# paper.\n",
        "train_sessions, val_sessions, test_sessions = [], [], []\n",
        "for visitor in train_visitors:\n",
        "    train_sessions.extend(extract_subsessions(sessions_by_visitors[visitor]))\n",
        "for visitor in val_visitors:\n",
        "    val_sessions.extend(extract_subsessions(sessions_by_visitors[visitor]))\n",
        "for visitor in test_visitors:\n",
        "    test_sessions.extend(extract_subsessions(sessions_by_visitors[visitor]))"
      ]
    },
    {
      "cell_type": "code",
      "source": [
        "mkdir \"raw\""
      ],
      "metadata": {
        "colab": {
          "base_uri": "https://localhost:8080/"
        },
        "id": "vU8kS4bB7KR_",
        "outputId": "2b73a7ad-421e-45b3-cd9b-2d0ee2e9339b"
      },
      "execution_count": null,
      "outputs": [
        {
          "output_type": "stream",
          "name": "stdout",
          "text": [
            "mkdir: cannot create directory ‘raw’: File exists\n"
          ]
        }
      ]
    },
    {
      "cell_type": "code",
      "execution_count": null,
      "metadata": {
        "colab": {
          "base_uri": "https://localhost:8080/"
        },
        "id": "sHNN9AV55P-v",
        "outputId": "baf56181-2165-426d-c8ff-3653f93282db"
      },
      "outputs": [
        {
          "output_type": "stream",
          "name": "stdout",
          "text": [
            "train, val, and test sessions: (410911, 52189, 50704)\n"
          ]
        }
      ],
      "source": [
        "# Check the number of (sub)sessions in each split\n",
        "print(f'train, val, and test sessions: {len(train_sessions), len(val_sessions), len(test_sessions)}')\n",
        "\n",
        "# Save the processed files.\n",
        "with open('raw/train.txt', 'wb') as f:\n",
        "    pickle.dump(train_sessions, f)\n",
        "with open('raw/val.txt', 'wb') as f:\n",
        "    pickle.dump(val_sessions, f)\n",
        "with open('raw/test.txt', 'wb') as f:\n",
        "    pickle.dump(test_sessions, f)"
      ]
    },
    {
      "cell_type": "markdown",
      "metadata": {
        "id": "AK8wBmby8SWt"
      },
      "source": [
        "##  Data Pipeline\n",
        "\n",
        "Используем PyTorch's `dataloader` и PyG's `Data` class. \n",
        "[документация](https://pytorch-geometric.readthedocs.io/en/latest/modules/data.html#module-torch_geometric.data)."
      ]
    },
    {
      "cell_type": "code",
      "execution_count": null,
      "metadata": {
        "id": "82KWESLd-1gV"
      },
      "outputs": [],
      "source": [
        "class GraphDataset(pyg_data.InMemoryDataset):\n",
        "    def __init__(self, root, file_name, transform=None, pre_transform=None):\n",
        "        self.file_name = file_name\n",
        "        super().__init__(root, transform, pre_transform)\n",
        "        self.data, self.slices = torch.load(self.processed_paths[0])\n",
        "\n",
        "    @property\n",
        "    def raw_file_names(self):\n",
        "        return [f'{self.file_name}.txt']\n",
        "\n",
        "    @property\n",
        "    def processed_file_names(self):\n",
        "        return [f'{self.file_name}.pt']\n",
        "\n",
        "    def download(self):\n",
        "        pass\n",
        "\n",
        "    def process(self):\n",
        "        raw_data_file = f'{self.raw_dir}/{self.raw_file_names[0]}'\n",
        "        with open(raw_data_file, 'rb') as f:\n",
        "            sessions = pickle.load(f)\n",
        "        data_list = []\n",
        "\n",
        "        for session in sessions:\n",
        "            session, y = session[:-1], session[-1]\n",
        "            codes, uniques = pd.factorize(session)\n",
        "            senders, receivers = codes[:-1], codes[1:]\n",
        "\n",
        "            # Build Data instance\n",
        "            edge_index = torch.tensor([senders, receivers], dtype=torch.long)\n",
        "            x = torch.tensor(uniques, dtype=torch.long).unsqueeze(1)\n",
        "            y = torch.tensor([y], dtype=torch.long)\n",
        "            data_list.append(pyg_data.Data(x=x, edge_index=edge_index, y=y))\n",
        "\n",
        "        data, slices = self.collate(data_list)\n",
        "        torch.save((data, slices), self.processed_paths[0])"
      ]
    },
    {
      "cell_type": "markdown",
      "metadata": {
        "id": "GD9bwJaUCOge"
      },
      "source": [
        "## Моделируем модель\n",
        "\n"
      ]
    },
    {
      "cell_type": "code",
      "execution_count": null,
      "metadata": {
        "id": "7K3HWrcwqp0Z"
      },
      "outputs": [],
      "source": [
        "class GatedSessionGraphConv(pyg.nn.conv.MessagePassing):\n",
        "    def __init__(self, out_channels, aggr: str = 'add', **kwargs):\n",
        "        super().__init__(aggr=aggr, **kwargs)\n",
        "\n",
        "        self.out_channels = out_channels\n",
        "\n",
        "        self.gru = torch.nn.GRUCell(out_channels, out_channels, bias=False)\n",
        "\n",
        "    def forward(self, x, edge_index):\n",
        "        m = self.propagate(edge_index, x=x, size=None)\n",
        "        x = self.gru(m, x)\n",
        "        return x\n",
        "\n",
        "    def message(self, x_j):\n",
        "        return x_j\n",
        "\n",
        "    def message_and_aggregate(self, adj_t, x):\n",
        "        return matmul(adj_t, x, reduce=self.aggr)"
      ]
    },
    {
      "cell_type": "code",
      "execution_count": null,
      "metadata": {
        "id": "TNsAHq8PCN3k"
      },
      "outputs": [],
      "source": [
        "class SRGNN(nn.Module):\n",
        "    def __init__(self, hidden_size, n_items):\n",
        "        super(SRGNN, self).__init__()\n",
        "        self.hidden_size = hidden_size\n",
        "        self.n_items = n_items\n",
        "\n",
        "        self.embedding = nn.Embedding(self.n_items, self.hidden_size)\n",
        "        self.gated = GatedSessionGraphConv(self.hidden_size)\n",
        "\n",
        "        self.q = nn.Linear(self.hidden_size, 1)\n",
        "        self.W_1 = nn.Linear(self.hidden_size, self.hidden_size, bias=False)\n",
        "        self.W_2 = nn.Linear(self.hidden_size, self.hidden_size)\n",
        "        self.W_3 = nn.Linear(2 * self.hidden_size, self.hidden_size, bias=False)\n",
        "\n",
        "    def reset_parameters(self):\n",
        "        stdv = 1.0 / math.sqrt(self.hidden_size)\n",
        "        for weight in self.parameters():\n",
        "            weight.data.uniform_(-stdv, stdv)\n",
        "\n",
        "    def forward(self, data):\n",
        "        x, edge_index, batch_map = data.x, data.edge_index, data.batch\n",
        "\n",
        "        # (0)\n",
        "        embedding = self.embedding(x).squeeze()\n",
        "\n",
        "        # (1)-(5)\n",
        "        v_i = self.gated(embedding, edge_index)\n",
        "\n",
        "        # Divide nodes by session\n",
        "        # For the detailed explanation of what is happening below, please refer\n",
        "        # to the Medium blog post.\n",
        "        sections = list(torch.bincount(batch_map).cpu())\n",
        "        v_i_split = torch.split(v_i, sections)\n",
        "\n",
        "        v_n, v_n_repeat = [], []\n",
        "        for session in v_i_split:\n",
        "            v_n.append(session[-1])\n",
        "            v_n_repeat.append(\n",
        "                session[-1].view(1, -1).repeat(session.shape[0], 1))\n",
        "        v_n, v_n_repeat = torch.stack(v_n), torch.cat(v_n_repeat, dim=0)\n",
        "\n",
        "        q1 = self.W_1(v_n_repeat)\n",
        "        q2 = self.W_2(v_i)\n",
        "\n",
        "        # (6)\n",
        "        alpha = self.q(F.sigmoid(q1 + q2))\n",
        "        s_g_split = torch.split(alpha * v_i, sections)\n",
        "\n",
        "        s_g = []\n",
        "        for session in s_g_split:\n",
        "            s_g_session = torch.sum(session, dim=0)\n",
        "            s_g.append(s_g_session)\n",
        "        s_g = torch.stack(s_g)\n",
        "\n",
        "        # (7)\n",
        "        s_l = v_n\n",
        "        s_h = self.W_3(torch.cat([s_l, s_g], dim=-1))\n",
        "\n",
        "        # (8)\n",
        "        z = torch.mm(self.embedding.weight, s_h.T).T\n",
        "        return z"
      ]
    },
    {
      "cell_type": "markdown",
      "metadata": {
        "id": "Qd0wGgxOAIoJ"
      },
      "source": [
        "## Обучение модели\n"
      ]
    },
    {
      "cell_type": "code",
      "source": [
        "max(events_df['StockCode'])"
      ],
      "metadata": {
        "colab": {
          "base_uri": "https://localhost:8080/"
        },
        "id": "HSiIwZlNBnHn",
        "outputId": "10fa24c3-e674-41a4-83a7-4d20e9c526b6"
      },
      "execution_count": null,
      "outputs": [
        {
          "output_type": "execute_result",
          "data": {
            "text/plain": [
              "90214"
            ]
          },
          "metadata": {},
          "execution_count": 29
        }
      ]
    },
    {
      "cell_type": "code",
      "execution_count": null,
      "metadata": {
        "id": "5gMZqEW81HYj"
      },
      "outputs": [],
      "source": [
        "# Гиперпараметры\n",
        "args = {\n",
        "    'batch_size': 100,\n",
        "    'hidden_dim': 32,\n",
        "    'epochs': 50,\n",
        "    'l2_penalty': 0.00001,\n",
        "    'weight_decay': 0.1,\n",
        "    'step': 30,\n",
        "    'lr': 0.001,\n",
        "    'num_items': 90215} \n",
        "\n",
        "class objectview(object):\n",
        "    def __init__(self, d): \n",
        "        self.__dict__ = d\n",
        "\n",
        "args = objectview(args)"
      ]
    },
    {
      "cell_type": "code",
      "execution_count": null,
      "metadata": {
        "id": "8iVoTPoJAKkU"
      },
      "outputs": [],
      "source": [
        "def train(args):\n",
        "    # Prepare data pipeline\n",
        "    train_dataset = GraphDataset('./', 'train')\n",
        "    train_loader = pyg_data.DataLoader(train_dataset,\n",
        "                                       batch_size=args.batch_size,\n",
        "                                       shuffle=False,\n",
        "                                       drop_last=True)\n",
        "    val_dataset = GraphDataset('./', 'val')\n",
        "    val_loader = pyg_data.DataLoader(val_dataset,\n",
        "                                     batch_size=args.batch_size,\n",
        "                                     shuffle=False,\n",
        "                                     drop_last=True)\n",
        "\n",
        "    # Build model\n",
        "    model = SRGNN(args.hidden_dim, args.num_items).to('cuda')\n",
        "\n",
        "    # Get training components\n",
        "    optimizer = torch.optim.Adam(model.parameters(),\n",
        "                                 lr=args.lr,\n",
        "                                 weight_decay=args.l2_penalty)\n",
        "    scheduler = optim.lr_scheduler.StepLR(optimizer,\n",
        "                                          step_size=args.step,\n",
        "                                          gamma=args.weight_decay)\n",
        "    criterion = nn.CrossEntropyLoss()\n",
        "\n",
        "    # Train\n",
        "    losses = []\n",
        "    test_accs = []\n",
        "    top_k_accs = []\n",
        "\n",
        "    best_acc = 0\n",
        "    best_model = None\n",
        "\n",
        "    for epoch in range(args.epochs):\n",
        "        total_loss = 0\n",
        "        model.train()\n",
        "        for _, batch in enumerate(tqdm(train_loader)):\n",
        "            batch.to('cuda')\n",
        "            optimizer.zero_grad()\n",
        "\n",
        "            pred = model(batch)\n",
        "            label = batch.y\n",
        "            loss = criterion(pred, label)\n",
        "\n",
        "            loss.backward()\n",
        "            optimizer.step()\n",
        "            total_loss += loss.item() * batch.num_graphs\n",
        "\n",
        "        total_loss /= len(train_loader.dataset)\n",
        "        losses.append(total_loss)\n",
        "\n",
        "        scheduler.step()\n",
        "\n",
        "        if epoch % 1 == 0:\n",
        "          test_acc, top_k_acc = test(val_loader, model, is_validation=True)\n",
        "          print(test_acc)\n",
        "          test_accs.append(test_acc)\n",
        "          top_k_accs.append(top_k_acc)\n",
        "          if test_acc > best_acc:\n",
        "            best_acc = test_acc\n",
        "            best_model = copy.deepcopy(model)\n",
        "        else:\n",
        "          test_accs.append(test_accs[-1])\n",
        "  \n",
        "    return test_accs, top_k_accs, losses, best_model, best_acc, val_loader"
      ]
    },
    {
      "cell_type": "code",
      "execution_count": null,
      "metadata": {
        "id": "UTiJJ1pm0ks9"
      },
      "outputs": [],
      "source": [
        "def test(loader, test_model, is_validation=False, save_model_preds=False):\n",
        "    test_model.eval()\n",
        "\n",
        "    # Define K for Hit@K metrics.\n",
        "    k = 20\n",
        "    correct = 0\n",
        "    top_k_correct = 0\n",
        "\n",
        "    for _, data in enumerate(tqdm(loader)):\n",
        "        data.to('cuda')\n",
        "        with torch.no_grad():\n",
        "            # max(dim=1) returns values, indices tuple; only need indices\n",
        "            score = test_model(data)\n",
        "            pred = score.max(dim=1)[1]\n",
        "            label = data.y\n",
        "\n",
        "        if save_model_preds:\n",
        "          data = {}\n",
        "          data['pred'] = pred.view(-1).cpu().detach().numpy()\n",
        "          data['label'] = label.view(-1).cpu().detach().numpy()\n",
        "\n",
        "          df = pd.DataFrame(data=data)\n",
        "          # Save locally as csv\n",
        "          df.to_csv('pred.csv', sep=',', index=False)\n",
        "            \n",
        "        correct += pred.eq(label).sum().item()\n",
        "\n",
        "        \n",
        "        if not is_validation:\n",
        "            score = score.cpu().detach().numpy()\n",
        "            for row in range(pred.size(0)):\n",
        "                top_k_pred = np.argpartition(score[row], -k)[-k:]\n",
        "                if label[row].item() in top_k_pred:\n",
        "                    top_k_correct += 1\n",
        "    \n",
        "    if not is_validation:\n",
        "        return correct / len(loader), top_k_correct / len(loader)\n",
        "    else:\n",
        "        return correct / len(loader), 0"
      ]
    },
    {
      "cell_type": "code",
      "execution_count": null,
      "metadata": {
        "colab": {
          "base_uri": "https://localhost:8080/",
          "height": 1000
        },
        "id": "pdNUqKJl1r35",
        "outputId": "86286b02-92e3-46b1-9071-eb149b596600"
      },
      "outputs": [
        {
          "output_type": "stream",
          "name": "stderr",
          "text": [
            "/usr/local/lib/python3.7/dist-packages/torch_geometric/deprecation.py:12: UserWarning: 'data.DataLoader' is deprecated, use 'loader.DataLoader' instead\n",
            "  warnings.warn(out)\n",
            "  0%|          | 0/4109 [00:00<?, ?it/s]/usr/local/lib/python3.7/dist-packages/torch/nn/functional.py:1960: UserWarning: nn.functional.sigmoid is deprecated. Use torch.sigmoid instead.\n",
            "  warnings.warn(\"nn.functional.sigmoid is deprecated. Use torch.sigmoid instead.\")\n",
            "100%|██████████| 4109/4109 [01:59<00:00, 34.25it/s]\n",
            "100%|██████████| 521/521 [00:10<00:00, 49.60it/s]\n"
          ]
        },
        {
          "output_type": "stream",
          "name": "stdout",
          "text": [
            "2.0\n"
          ]
        },
        {
          "output_type": "stream",
          "name": "stderr",
          "text": [
            "100%|██████████| 4109/4109 [01:29<00:00, 45.87it/s]\n",
            "100%|██████████| 521/521 [00:05<00:00, 92.05it/s]\n"
          ]
        },
        {
          "output_type": "stream",
          "name": "stdout",
          "text": [
            "3.6468330134357005\n"
          ]
        },
        {
          "output_type": "stream",
          "name": "stderr",
          "text": [
            "100%|██████████| 4109/4109 [01:28<00:00, 46.21it/s]\n",
            "100%|██████████| 521/521 [00:05<00:00, 92.26it/s]\n"
          ]
        },
        {
          "output_type": "stream",
          "name": "stdout",
          "text": [
            "5.092130518234165\n"
          ]
        },
        {
          "output_type": "stream",
          "name": "stderr",
          "text": [
            "100%|██████████| 4109/4109 [01:29<00:00, 46.05it/s]\n",
            "100%|██████████| 521/521 [00:05<00:00, 92.20it/s]\n"
          ]
        },
        {
          "output_type": "stream",
          "name": "stdout",
          "text": [
            "6.245681381957773\n"
          ]
        },
        {
          "output_type": "stream",
          "name": "stderr",
          "text": [
            "100%|██████████| 4109/4109 [01:30<00:00, 45.21it/s]\n",
            "100%|██████████| 521/521 [00:06<00:00, 79.00it/s]\n"
          ]
        },
        {
          "output_type": "stream",
          "name": "stdout",
          "text": [
            "7.401151631477927\n"
          ]
        },
        {
          "output_type": "stream",
          "name": "stderr",
          "text": [
            "100%|██████████| 4109/4109 [01:33<00:00, 43.84it/s]\n",
            "100%|██████████| 521/521 [00:05<00:00, 91.44it/s]\n"
          ]
        },
        {
          "output_type": "stream",
          "name": "stdout",
          "text": [
            "8.12092130518234\n"
          ]
        },
        {
          "output_type": "stream",
          "name": "stderr",
          "text": [
            "100%|██████████| 4109/4109 [01:32<00:00, 44.56it/s]\n",
            "100%|██████████| 521/521 [00:05<00:00, 90.21it/s]\n"
          ]
        },
        {
          "output_type": "stream",
          "name": "stdout",
          "text": [
            "8.742802303262955\n"
          ]
        },
        {
          "output_type": "stream",
          "name": "stderr",
          "text": [
            "100%|██████████| 4109/4109 [01:30<00:00, 45.24it/s]\n",
            "100%|██████████| 521/521 [00:05<00:00, 91.67it/s]\n"
          ]
        },
        {
          "output_type": "stream",
          "name": "stdout",
          "text": [
            "9.422264875239923\n"
          ]
        },
        {
          "output_type": "stream",
          "name": "stderr",
          "text": [
            "100%|██████████| 4109/4109 [01:30<00:00, 45.50it/s]\n",
            "100%|██████████| 521/521 [00:07<00:00, 69.75it/s]\n"
          ]
        },
        {
          "output_type": "stream",
          "name": "stdout",
          "text": [
            "9.932821497120921\n"
          ]
        },
        {
          "output_type": "stream",
          "name": "stderr",
          "text": [
            "100%|██████████| 4109/4109 [01:30<00:00, 45.58it/s]\n",
            "100%|██████████| 521/521 [00:05<00:00, 91.43it/s]\n"
          ]
        },
        {
          "output_type": "stream",
          "name": "stdout",
          "text": [
            "10.418426103646834\n"
          ]
        },
        {
          "output_type": "stream",
          "name": "stderr",
          "text": [
            "100%|██████████| 4109/4109 [01:28<00:00, 46.25it/s]\n",
            "100%|██████████| 521/521 [00:06<00:00, 79.50it/s]\n"
          ]
        },
        {
          "output_type": "stream",
          "name": "stdout",
          "text": [
            "11.001919385796546\n"
          ]
        },
        {
          "output_type": "stream",
          "name": "stderr",
          "text": [
            "100%|██████████| 4109/4109 [01:28<00:00, 46.25it/s]\n",
            "100%|██████████| 521/521 [00:05<00:00, 90.67it/s]\n"
          ]
        },
        {
          "output_type": "stream",
          "name": "stdout",
          "text": [
            "11.353166986564299\n"
          ]
        },
        {
          "output_type": "stream",
          "name": "stderr",
          "text": [
            "100%|██████████| 4109/4109 [01:29<00:00, 46.15it/s]\n",
            "100%|██████████| 521/521 [00:05<00:00, 91.43it/s]\n"
          ]
        },
        {
          "output_type": "stream",
          "name": "stdout",
          "text": [
            "11.614203454894433\n"
          ]
        },
        {
          "output_type": "stream",
          "name": "stderr",
          "text": [
            "100%|██████████| 4109/4109 [01:30<00:00, 45.33it/s]\n",
            "100%|██████████| 521/521 [00:05<00:00, 91.49it/s]\n"
          ]
        },
        {
          "output_type": "stream",
          "name": "stdout",
          "text": [
            "11.84644913627639\n"
          ]
        },
        {
          "output_type": "stream",
          "name": "stderr",
          "text": [
            "100%|██████████| 4109/4109 [01:31<00:00, 44.94it/s]\n",
            "100%|██████████| 521/521 [00:05<00:00, 90.69it/s]\n"
          ]
        },
        {
          "output_type": "stream",
          "name": "stdout",
          "text": [
            "12.067178502879079\n"
          ]
        },
        {
          "output_type": "stream",
          "name": "stderr",
          "text": [
            "100%|██████████| 4109/4109 [01:30<00:00, 45.18it/s]\n",
            "100%|██████████| 521/521 [00:06<00:00, 78.99it/s]\n"
          ]
        },
        {
          "output_type": "stream",
          "name": "stdout",
          "text": [
            "12.285988483685221\n"
          ]
        },
        {
          "output_type": "stream",
          "name": "stderr",
          "text": [
            "100%|██████████| 4109/4109 [01:30<00:00, 45.18it/s]\n",
            "100%|██████████| 521/521 [00:05<00:00, 89.17it/s]\n"
          ]
        },
        {
          "output_type": "stream",
          "name": "stdout",
          "text": [
            "12.412667946257198\n"
          ]
        },
        {
          "output_type": "stream",
          "name": "stderr",
          "text": [
            "100%|██████████| 4109/4109 [01:32<00:00, 44.50it/s]\n",
            "100%|██████████| 521/521 [00:05<00:00, 89.70it/s]\n"
          ]
        },
        {
          "output_type": "stream",
          "name": "stdout",
          "text": [
            "12.564299424184261\n"
          ]
        },
        {
          "output_type": "stream",
          "name": "stderr",
          "text": [
            "100%|██████████| 4109/4109 [01:33<00:00, 43.74it/s]\n",
            "100%|██████████| 521/521 [00:05<00:00, 90.57it/s]\n"
          ]
        },
        {
          "output_type": "stream",
          "name": "stdout",
          "text": [
            "12.723608445297504\n"
          ]
        },
        {
          "output_type": "stream",
          "name": "stderr",
          "text": [
            "100%|██████████| 4109/4109 [01:32<00:00, 44.29it/s]\n",
            "100%|██████████| 521/521 [00:05<00:00, 90.60it/s]\n"
          ]
        },
        {
          "output_type": "stream",
          "name": "stdout",
          "text": [
            "12.873320537428024\n"
          ]
        },
        {
          "output_type": "stream",
          "name": "stderr",
          "text": [
            "100%|██████████| 4109/4109 [01:31<00:00, 44.75it/s]\n",
            "100%|██████████| 521/521 [00:05<00:00, 90.10it/s]\n"
          ]
        },
        {
          "output_type": "stream",
          "name": "stdout",
          "text": [
            "12.940499040307103\n"
          ]
        },
        {
          "output_type": "stream",
          "name": "stderr",
          "text": [
            "100%|██████████| 4109/4109 [01:30<00:00, 45.28it/s]\n",
            "100%|██████████| 521/521 [00:05<00:00, 90.47it/s]\n"
          ]
        },
        {
          "output_type": "stream",
          "name": "stdout",
          "text": [
            "13.028790786948177\n"
          ]
        },
        {
          "output_type": "stream",
          "name": "stderr",
          "text": [
            "100%|██████████| 4109/4109 [01:31<00:00, 45.09it/s]\n",
            "100%|██████████| 521/521 [00:07<00:00, 70.70it/s]\n"
          ]
        },
        {
          "output_type": "stream",
          "name": "stdout",
          "text": [
            "13.159309021113243\n"
          ]
        },
        {
          "output_type": "stream",
          "name": "stderr",
          "text": [
            "100%|██████████| 4109/4109 [01:30<00:00, 45.16it/s]\n",
            "100%|██████████| 521/521 [00:05<00:00, 91.36it/s]\n"
          ]
        },
        {
          "output_type": "stream",
          "name": "stdout",
          "text": [
            "13.287907869481765\n"
          ]
        },
        {
          "output_type": "stream",
          "name": "stderr",
          "text": [
            "100%|██████████| 4109/4109 [01:30<00:00, 45.28it/s]\n",
            "100%|██████████| 521/521 [00:05<00:00, 90.28it/s]\n"
          ]
        },
        {
          "output_type": "stream",
          "name": "stdout",
          "text": [
            "13.378119001919385\n"
          ]
        },
        {
          "output_type": "stream",
          "name": "stderr",
          "text": [
            "100%|██████████| 4109/4109 [01:30<00:00, 45.29it/s]\n",
            "100%|██████████| 521/521 [00:05<00:00, 89.98it/s]\n"
          ]
        },
        {
          "output_type": "stream",
          "name": "stdout",
          "text": [
            "13.477927063339731\n"
          ]
        },
        {
          "output_type": "stream",
          "name": "stderr",
          "text": [
            "100%|██████████| 4109/4109 [01:30<00:00, 45.53it/s]\n",
            "100%|██████████| 521/521 [00:05<00:00, 90.90it/s]\n"
          ]
        },
        {
          "output_type": "stream",
          "name": "stdout",
          "text": [
            "13.547024952015356\n"
          ]
        },
        {
          "output_type": "stream",
          "name": "stderr",
          "text": [
            "100%|██████████| 4109/4109 [01:32<00:00, 44.50it/s]\n",
            "100%|██████████| 521/521 [00:05<00:00, 91.46it/s]\n"
          ]
        },
        {
          "output_type": "stream",
          "name": "stdout",
          "text": [
            "13.652591170825335\n"
          ]
        },
        {
          "output_type": "stream",
          "name": "stderr",
          "text": [
            "100%|██████████| 4109/4109 [01:31<00:00, 44.98it/s]\n",
            "100%|██████████| 521/521 [00:05<00:00, 90.80it/s]\n"
          ]
        },
        {
          "output_type": "stream",
          "name": "stdout",
          "text": [
            "13.72936660268714\n"
          ]
        },
        {
          "output_type": "stream",
          "name": "stderr",
          "text": [
            "100%|██████████| 4109/4109 [01:30<00:00, 45.25it/s]\n",
            "100%|██████████| 521/521 [00:05<00:00, 91.68it/s]\n"
          ]
        },
        {
          "output_type": "stream",
          "name": "stdout",
          "text": [
            "13.761996161228407\n"
          ]
        },
        {
          "output_type": "stream",
          "name": "stderr",
          "text": [
            "100%|██████████| 4109/4109 [01:28<00:00, 46.37it/s]\n",
            "100%|██████████| 521/521 [00:05<00:00, 92.25it/s]\n"
          ]
        },
        {
          "output_type": "stream",
          "name": "stdout",
          "text": [
            "14.508637236084454\n"
          ]
        },
        {
          "output_type": "stream",
          "name": "stderr",
          "text": [
            "100%|██████████| 4109/4109 [01:27<00:00, 46.85it/s]\n",
            "100%|██████████| 521/521 [00:05<00:00, 91.23it/s]\n"
          ]
        },
        {
          "output_type": "stream",
          "name": "stdout",
          "text": [
            "14.589251439539348\n"
          ]
        },
        {
          "output_type": "stream",
          "name": "stderr",
          "text": [
            "100%|██████████| 4109/4109 [01:32<00:00, 44.57it/s]\n",
            "100%|██████████| 521/521 [00:05<00:00, 91.19it/s]\n"
          ]
        },
        {
          "output_type": "stream",
          "name": "stdout",
          "text": [
            "14.6084452975048\n"
          ]
        },
        {
          "output_type": "stream",
          "name": "stderr",
          "text": [
            "100%|██████████| 4109/4109 [01:28<00:00, 46.30it/s]\n",
            "100%|██████████| 521/521 [00:05<00:00, 94.66it/s]\n"
          ]
        },
        {
          "output_type": "stream",
          "name": "stdout",
          "text": [
            "14.589251439539348\n"
          ]
        },
        {
          "output_type": "stream",
          "name": "stderr",
          "text": [
            "100%|██████████| 4109/4109 [01:29<00:00, 45.93it/s]\n",
            "100%|██████████| 521/521 [00:05<00:00, 93.41it/s]\n"
          ]
        },
        {
          "output_type": "stream",
          "name": "stdout",
          "text": [
            "14.598848368522074\n"
          ]
        },
        {
          "output_type": "stream",
          "name": "stderr",
          "text": [
            "100%|██████████| 4109/4109 [01:28<00:00, 46.53it/s]\n",
            "100%|██████████| 521/521 [00:05<00:00, 89.91it/s]\n"
          ]
        },
        {
          "output_type": "stream",
          "name": "stdout",
          "text": [
            "14.591170825335892\n"
          ]
        },
        {
          "output_type": "stream",
          "name": "stderr",
          "text": [
            "100%|██████████| 4109/4109 [01:28<00:00, 46.42it/s]\n",
            "100%|██████████| 521/521 [00:07<00:00, 70.88it/s]\n"
          ]
        },
        {
          "output_type": "stream",
          "name": "stdout",
          "text": [
            "14.600767754318618\n"
          ]
        },
        {
          "output_type": "stream",
          "name": "stderr",
          "text": [
            "100%|██████████| 4109/4109 [01:30<00:00, 45.26it/s]\n",
            "100%|██████████| 521/521 [00:05<00:00, 91.02it/s]\n"
          ]
        },
        {
          "output_type": "stream",
          "name": "stdout",
          "text": [
            "14.598848368522074\n"
          ]
        },
        {
          "output_type": "stream",
          "name": "stderr",
          "text": [
            "100%|██████████| 4109/4109 [01:28<00:00, 46.25it/s]\n",
            "100%|██████████| 521/521 [00:05<00:00, 92.50it/s]\n"
          ]
        },
        {
          "output_type": "stream",
          "name": "stdout",
          "text": [
            "14.593090211132438\n"
          ]
        },
        {
          "output_type": "stream",
          "name": "stderr",
          "text": [
            "100%|██████████| 4109/4109 [01:28<00:00, 46.47it/s]\n",
            "100%|██████████| 521/521 [00:05<00:00, 92.57it/s]\n"
          ]
        },
        {
          "output_type": "stream",
          "name": "stdout",
          "text": [
            "14.610364683301343\n"
          ]
        },
        {
          "output_type": "stream",
          "name": "stderr",
          "text": [
            "100%|██████████| 4109/4109 [01:28<00:00, 46.65it/s]\n",
            "100%|██████████| 521/521 [00:05<00:00, 92.46it/s]\n"
          ]
        },
        {
          "output_type": "stream",
          "name": "stdout",
          "text": [
            "14.62763915547025\n"
          ]
        },
        {
          "output_type": "stream",
          "name": "stderr",
          "text": [
            "100%|██████████| 4109/4109 [01:29<00:00, 45.66it/s]\n",
            "100%|██████████| 521/521 [00:05<00:00, 93.05it/s]\n"
          ]
        },
        {
          "output_type": "stream",
          "name": "stdout",
          "text": [
            "14.64299424184261\n"
          ]
        },
        {
          "output_type": "stream",
          "name": "stderr",
          "text": [
            "100%|██████████| 4109/4109 [01:28<00:00, 46.50it/s]\n",
            "100%|██████████| 521/521 [00:05<00:00, 92.56it/s]\n"
          ]
        },
        {
          "output_type": "stream",
          "name": "stdout",
          "text": [
            "14.641074856046066\n"
          ]
        },
        {
          "output_type": "stream",
          "name": "stderr",
          "text": [
            "100%|██████████| 4109/4109 [01:28<00:00, 46.60it/s]\n",
            "100%|██████████| 521/521 [00:05<00:00, 92.86it/s]\n"
          ]
        },
        {
          "output_type": "stream",
          "name": "stdout",
          "text": [
            "14.650671785028791\n"
          ]
        },
        {
          "output_type": "stream",
          "name": "stderr",
          "text": [
            "100%|██████████| 4109/4109 [01:27<00:00, 47.05it/s]\n",
            "100%|██████████| 521/521 [00:05<00:00, 93.07it/s]\n"
          ]
        },
        {
          "output_type": "stream",
          "name": "stdout",
          "text": [
            "14.650671785028791\n"
          ]
        },
        {
          "output_type": "stream",
          "name": "stderr",
          "text": [
            "100%|██████████| 4109/4109 [01:27<00:00, 46.77it/s]\n",
            "100%|██████████| 521/521 [00:05<00:00, 93.85it/s]\n"
          ]
        },
        {
          "output_type": "stream",
          "name": "stdout",
          "text": [
            "14.633397312859884\n"
          ]
        },
        {
          "output_type": "stream",
          "name": "stderr",
          "text": [
            "100%|██████████| 4109/4109 [01:29<00:00, 45.73it/s]\n",
            "100%|██████████| 521/521 [00:05<00:00, 92.91it/s]\n"
          ]
        },
        {
          "output_type": "stream",
          "name": "stdout",
          "text": [
            "14.62763915547025\n"
          ]
        },
        {
          "output_type": "stream",
          "name": "stderr",
          "text": [
            "100%|██████████| 4109/4109 [01:27<00:00, 46.86it/s]\n",
            "100%|██████████| 521/521 [00:06<00:00, 83.66it/s]\n"
          ]
        },
        {
          "output_type": "stream",
          "name": "stdout",
          "text": [
            "14.63915547024952\n"
          ]
        },
        {
          "output_type": "stream",
          "name": "stderr",
          "text": [
            "100%|██████████| 4109/4109 [01:27<00:00, 47.04it/s]\n",
            "100%|██████████| 521/521 [00:05<00:00, 92.04it/s]\n"
          ]
        },
        {
          "output_type": "stream",
          "name": "stdout",
          "text": [
            "14.63147792706334\n"
          ]
        },
        {
          "output_type": "stream",
          "name": "stderr",
          "text": [
            "100%|██████████| 4109/4109 [01:28<00:00, 46.60it/s]\n",
            "100%|██████████| 521/521 [00:05<00:00, 92.94it/s]\n"
          ]
        },
        {
          "output_type": "stream",
          "name": "stdout",
          "text": [
            "14.625719769673704\n",
            "[2.0, 3.6468330134357005, 5.092130518234165, 6.245681381957773, 7.401151631477927, 8.12092130518234, 8.742802303262955, 9.422264875239923, 9.932821497120921, 10.418426103646834, 11.001919385796546, 11.353166986564299, 11.614203454894433, 11.84644913627639, 12.067178502879079, 12.285988483685221, 12.412667946257198, 12.564299424184261, 12.723608445297504, 12.873320537428024, 12.940499040307103, 13.028790786948177, 13.159309021113243, 13.287907869481765, 13.378119001919385, 13.477927063339731, 13.547024952015356, 13.652591170825335, 13.72936660268714, 13.761996161228407, 14.508637236084454, 14.589251439539348, 14.6084452975048, 14.589251439539348, 14.598848368522074, 14.591170825335892, 14.600767754318618, 14.598848368522074, 14.593090211132438, 14.610364683301343, 14.62763915547025, 14.64299424184261, 14.641074856046066, 14.650671785028791, 14.650671785028791, 14.633397312859884, 14.62763915547025, 14.63915547024952, 14.63147792706334, 14.625719769673704] [0, 0, 0, 0, 0, 0, 0, 0, 0, 0, 0, 0, 0, 0, 0, 0, 0, 0, 0, 0, 0, 0, 0, 0, 0, 0, 0, 0, 0, 0, 0, 0, 0, 0, 0, 0, 0, 0, 0, 0, 0, 0, 0, 0, 0, 0, 0, 0, 0, 0]\n",
            "Maximum test set accuracy: 14.650671785028791\n",
            "Minimum loss: 5.388350830605057\n"
          ]
        },
        {
          "output_type": "display_data",
          "data": {
            "text/plain": [
              "<Figure size 432x288 with 1 Axes>"
            ],
            "image/png": "[encoded data removed]"
          },
          "metadata": {
            "needs_background": "light"
          }
        }
      ],
      "source": [
        "#Обучаем\n",
        "test_accs, top_k_accs, losses, best_model, best_acc, test_loader = train(args) \n",
        "\n",
        "print(test_accs, top_k_accs)\n",
        "print(\"Maximum test set accuracy: {0}\".format(max(test_accs)))\n",
        "print(\"Minimum loss: {0}\".format(min(losses)))\n",
        "\n",
        "# plt.title(dataset.name)\n",
        "plt.plot(losses, label=\"training loss\" + \" - \")\n",
        "plt.plot(test_accs, label=\"test accuracy\" + \" - \")\n",
        "plt.legend()\n",
        "plt.show()"
      ]
    },
    {
      "cell_type": "markdown",
      "metadata": {
        "id": "bEg5LDYoAkun"
      },
      "source": [
        "## Оценка\n"
      ]
    },
    {
      "cell_type": "code",
      "source": [
        "# Сохраняем модель\n",
        "torch.save(best_model.state_dict(), 'model')"
      ],
      "metadata": {
        "id": "9rTB4_lI1Ocg"
      },
      "execution_count": null,
      "outputs": []
    },
    {
      "cell_type": "code",
      "execution_count": null,
      "metadata": {
        "id": "ZzE_ft8UAmz0",
        "colab": {
          "base_uri": "https://localhost:8080/"
        },
        "outputId": "3535087c-e178-4cc4-9ae6-fa4653354b76"
      },
      "outputs": [
        {
          "output_type": "stream",
          "name": "stderr",
          "text": [
            "Processing...\n",
            "/usr/local/lib/python3.7/dist-packages/ipykernel_launcher.py:30: UserWarning: Creating a tensor from a list of numpy.ndarrays is extremely slow. Please consider converting the list to a single numpy.ndarray with numpy.array() before converting to a tensor. (Triggered internally at  ../torch/csrc/utils/tensor_new.cpp:201.)\n",
            "Done!\n",
            "100%|██████████| 507/507 [00:59<00:00,  8.57it/s]\n"
          ]
        },
        {
          "output_type": "execute_result",
          "data": {
            "text/plain": [
              "(14.958579881656805, 46.72386587771203)"
            ]
          },
          "metadata": {},
          "execution_count": 30
        }
      ],
      "source": [
        "# Загружаем лучшую модель и выводим Hit@K accuracy\n",
        "test_dataset = GraphDataset('./', 'test')\n",
        "test_loader = pyg_data.DataLoader(test_dataset,\n",
        "                                  batch_size=args.batch_size,\n",
        "                                  shuffle=False,\n",
        "                                  drop_last=True)\n",
        "\n",
        "test(test_loader, best_model, is_validation=False, save_model_preds=True)"
      ]
    },
    {
      "cell_type": "markdown",
      "source": [
        "Hit@1 - 14.958579881656805, Hit@20 46.72386587771203"
      ],
      "metadata": {
        "id": "M5jBZnQFbcZz"
      }
    },
    {
      "cell_type": "markdown",
      "source": [
        "Модель правильно предсказывает следующий товар в сессии в 15 % случаях. Почти в 50% случаев правильный ответ попадает в топ 20 предсказаний модели. Модель показала хороший результат."
      ],
      "metadata": {
        "id": "KX5yGTnNbYlk"
      }
    }
  ],
  "metadata": {
    "accelerator": "GPU",
    "colab": {
      "collapsed_sections": [],
      "provenance": [],
      "include_colab_link": true
    },
    "kernelspec": {
      "display_name": "Python 3",
      "name": "python3"
    },
    "language_info": {
      "name": "python"
    }
  },
  "nbformat": 4,
  "nbformat_minor": 0
}